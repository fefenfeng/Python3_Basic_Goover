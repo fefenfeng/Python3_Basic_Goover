{
 "cells": [
  {
   "cell_type": "markdown",
   "source": [
    "# Comprehensions 推导式\n",
    "Python中常见语法糖，可以从一个数据序列构建另一个新的数据序列"
   ],
   "metadata": {
    "collapsed": false
   }
  },
  {
   "cell_type": "markdown",
   "source": [
    "列表推导式"
   ],
   "metadata": {
    "collapsed": false
   }
  },
  {
   "cell_type": "code",
   "execution_count": 1,
   "metadata": {
    "collapsed": true,
    "ExecuteTime": {
     "end_time": "2024-03-23T01:14:07.362521Z",
     "start_time": "2024-03-23T01:14:07.346869Z"
    }
   },
   "outputs": [
    {
     "name": "stdout",
     "output_type": "stream",
     "text": [
      "['ALICE', 'JERRY', 'WENDY', 'SMITH']\n"
     ]
    }
   ],
   "source": [
    "names = ['Bob', 'Tom', 'Alice', 'Jerry', 'Wendy', 'Smith']\n",
    "new_names = [name.upper()for name in names if len(name) > 3]\n",
    "print(new_names)"
   ]
  },
  {
   "cell_type": "code",
   "execution_count": 2,
   "outputs": [
    {
     "name": "stdout",
     "output_type": "stream",
     "text": [
      "[0, 3, 6, 9, 12, 15, 18, 21, 24, 27, 30]\n"
     ]
    }
   ],
   "source": [
    "# 30以内可以被3整除的整数\n",
    "multiples = [i for i in range(31) if i % 3 == 0]\n",
    "print(multiples)"
   ],
   "metadata": {
    "collapsed": false,
    "ExecuteTime": {
     "end_time": "2024-03-23T01:15:13.661007600Z",
     "start_time": "2024-03-23T01:15:13.645067Z"
    }
   }
  },
  {
   "cell_type": "code",
   "execution_count": 7,
   "outputs": [
    {
     "name": "stdout",
     "output_type": "stream",
     "text": [
      "['Python', 'TEST1', 'TEST2']\n"
     ]
    }
   ],
   "source": [
    "list1 = ['python', 'test1', 'test2']\n",
    "list2 = [word.title() if word.startswith('p') else word.upper() for word in list1]\n",
    "print(list2)"
   ],
   "metadata": {
    "collapsed": false,
    "ExecuteTime": {
     "end_time": "2024-03-23T01:47:50.362439900Z",
     "start_time": "2024-03-23T01:47:50.346829100Z"
    }
   }
  },
  {
   "cell_type": "markdown",
   "source": [
    "字典推导式"
   ],
   "metadata": {
    "collapsed": false
   }
  },
  {
   "cell_type": "code",
   "execution_count": 3,
   "outputs": [
    {
     "name": "stdout",
     "output_type": "stream",
     "text": [
      "{'Bob': 3, 'Tom': 3, 'Alice': 5, 'Jerry': 5, 'Wendy': 5, 'Smith': 5}\n"
     ]
    }
   ],
   "source": [
    "names = ['Bob', 'Tom', 'Alice', 'Jerry', 'Wendy', 'Smith']\n",
    "newdict = {key : len(key) for key in names}\n",
    "print(newdict)"
   ],
   "metadata": {
    "collapsed": false,
    "ExecuteTime": {
     "end_time": "2024-03-23T01:24:45.589683300Z",
     "start_time": "2024-03-23T01:24:45.577685100Z"
    }
   }
  },
  {
   "cell_type": "code",
   "execution_count": 4,
   "outputs": [
    {
     "name": "stdout",
     "output_type": "stream",
     "text": [
      "{2: 4, 4: 16, 6: 36}\n"
     ]
    }
   ],
   "source": [
    "newdict = {x : x ** 2 for x in (2, 4, 6)}\n",
    "print(newdict)"
   ],
   "metadata": {
    "collapsed": false,
    "ExecuteTime": {
     "end_time": "2024-03-23T01:25:25.352580500Z",
     "start_time": "2024-03-23T01:25:25.300036Z"
    }
   }
  },
  {
   "cell_type": "markdown",
   "source": [
    "集合推导式"
   ],
   "metadata": {
    "collapsed": false
   }
  },
  {
   "cell_type": "code",
   "execution_count": 5,
   "outputs": [
    {
     "name": "stdout",
     "output_type": "stream",
     "text": [
      "{0, 1, 4, 9}\n"
     ]
    }
   ],
   "source": [
    "newset = {i ** 2 for i in range(4)}\n",
    "print(newset)"
   ],
   "metadata": {
    "collapsed": false,
    "ExecuteTime": {
     "end_time": "2024-03-23T01:27:11.933437700Z",
     "start_time": "2024-03-23T01:27:11.884039600Z"
    }
   }
  },
  {
   "cell_type": "code",
   "execution_count": 6,
   "outputs": [
    {
     "name": "stdout",
     "output_type": "stream",
     "text": [
      "{'h', 'd', 'i', 'k', 's', 'o'} <class 'set'>\n"
     ]
    }
   ],
   "source": [
    "a = {x for x in 'absdkashdoiashdb' if x not in 'abc'}\n",
    "print(a, type(a))"
   ],
   "metadata": {
    "collapsed": false,
    "ExecuteTime": {
     "end_time": "2024-03-23T01:27:45.904523Z",
     "start_time": "2024-03-23T01:27:45.896526200Z"
    }
   }
  },
  {
   "cell_type": "markdown",
   "source": [
    "元组推导式 (生成器表达式)\n",
    "可利用range区间、元组、列表、字典和集合等数据类型，快速生成一个满足指定需求的元组。\n",
    "元组推导式返回的是一个生成器对象"
   ],
   "metadata": {
    "collapsed": false
   }
  },
  {
   "cell_type": "code",
   "execution_count": 8,
   "outputs": [
    {
     "name": "stdout",
     "output_type": "stream",
     "text": [
      "<generator object <genexpr> at 0x000002291281AB20>\n"
     ]
    }
   ],
   "source": [
    "a = (x for x in range(1, 10))\n",
    "print(a)"
   ],
   "metadata": {
    "collapsed": false,
    "ExecuteTime": {
     "end_time": "2024-03-23T01:49:00.205239700Z",
     "start_time": "2024-03-23T01:49:00.189614800Z"
    }
   }
  },
  {
   "cell_type": "code",
   "execution_count": 9,
   "outputs": [
    {
     "data": {
      "text/plain": "(1, 2, 3, 4, 5, 6, 7, 8, 9)"
     },
     "execution_count": 9,
     "metadata": {},
     "output_type": "execute_result"
    }
   ],
   "source": [
    "tuple(a)"
   ],
   "metadata": {
    "collapsed": false,
    "ExecuteTime": {
     "end_time": "2024-03-23T01:49:08.701278100Z",
     "start_time": "2024-03-23T01:49:08.669538700Z"
    }
   }
  },
  {
   "cell_type": "code",
   "execution_count": 10,
   "outputs": [
    {
     "data": {
      "text/plain": "[]"
     },
     "execution_count": 10,
     "metadata": {},
     "output_type": "execute_result"
    }
   ],
   "source": [
    "list(a) # 对象会自己释放内存"
   ],
   "metadata": {
    "collapsed": false,
    "ExecuteTime": {
     "end_time": "2024-03-23T01:49:12.456516200Z",
     "start_time": "2024-03-23T01:49:12.456516200Z"
    }
   }
  }
 ],
 "metadata": {
  "kernelspec": {
   "display_name": "Python 3",
   "language": "python",
   "name": "python3"
  },
  "language_info": {
   "codemirror_mode": {
    "name": "ipython",
    "version": 2
   },
   "file_extension": ".py",
   "mimetype": "text/x-python",
   "name": "python",
   "nbconvert_exporter": "python",
   "pygments_lexer": "ipython2",
   "version": "2.7.6"
  }
 },
 "nbformat": 4,
 "nbformat_minor": 0
}
