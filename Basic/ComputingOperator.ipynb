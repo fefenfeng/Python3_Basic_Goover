{
 "cells": [
  {
   "cell_type": "markdown",
   "source": [
    "# 操作运算符\n",
    "算术运算符\n",
    "比较运算符\n",
    "赋值运算符"
   ],
   "metadata": {
    "collapsed": false
   }
  },
  {
   "cell_type": "markdown",
   "source": [
    "3.8以上，海象运算符 :=\n",
    "主要目的是在表达式中同时进行赋值和返回赋值的值"
   ],
   "metadata": {
    "collapsed": false
   }
  },
  {
   "cell_type": "code",
   "execution_count": 1,
   "metadata": {
    "collapsed": true,
    "ExecuteTime": {
     "end_time": "2024-03-18T13:35:30.335402100Z",
     "start_time": "2024-03-18T13:35:30.319804500Z"
    }
   },
   "outputs": [
    {
     "name": "stdout",
     "output_type": "stream",
     "text": [
      "10\n",
      "number is < 5\n"
     ]
    }
   ],
   "source": [
    "n = 10\n",
    "if n > 5:\n",
    "    print(n)\n",
    "\n",
    "if (x := 4) > 5:\n",
    "    print(4)\n",
    "else:\n",
    "    print(\"number is < 5\")"
   ]
  },
  {
   "cell_type": "markdown",
   "source": [
    "位运算符"
   ],
   "metadata": {
    "collapsed": false
   }
  },
  {
   "cell_type": "code",
   "execution_count": 14,
   "outputs": [
    {
     "name": "stdout",
     "output_type": "stream",
     "text": [
      "0b111100\n",
      "0b1101\n",
      "0b1100\n",
      "0b111101\n",
      "0b110001\n",
      "-0b111101\n",
      "0b11110000\n",
      "0b1111\n"
     ]
    }
   ],
   "source": [
    "a = 0b00111100\n",
    "print(bin(a))\n",
    "b = 0b00001101\n",
    "print(bin(b))\n",
    "\n",
    "print(bin(a & b)) # 按位与运算\n",
    "print(bin(a | b)) # 按位或运算\n",
    "print(bin(a ^ b)) # 按位异或运算\n",
    "print(bin(~a)) # 按位取反\n",
    "print(bin(a << 2)) # 左移\n",
    "print(bin(a >> 2)) # 右移"
   ],
   "metadata": {
    "collapsed": false,
    "ExecuteTime": {
     "end_time": "2024-03-18T13:46:48.226636600Z",
     "start_time": "2024-03-18T13:46:48.211010500Z"
    }
   }
  },
  {
   "cell_type": "markdown",
   "source": [
    "逻辑运算符"
   ],
   "metadata": {
    "collapsed": false
   }
  },
  {
   "cell_type": "markdown",
   "source": [
    "成员运算符，测试实例中包含了一系列的成员，包括字符串，列表或元组"
   ],
   "metadata": {
    "collapsed": false
   }
  },
  {
   "cell_type": "code",
   "execution_count": 15,
   "outputs": [
    {
     "name": "stdout",
     "output_type": "stream",
     "text": [
      "变量a在给定的list中\n",
      "b不在其中\n"
     ]
    }
   ],
   "source": [
    "a = 2\n",
    "b = 20\n",
    "numlist = [1, 2, 3, 4, 5]\n",
    "if a in numlist:\n",
    "    print(\"变量a在给定的list中\")\n",
    "if b not in numlist:\n",
    "    print(\"b不在其中\")"
   ],
   "metadata": {
    "collapsed": false,
    "ExecuteTime": {
     "end_time": "2024-03-18T13:49:58.631017900Z",
     "start_time": "2024-03-18T13:49:58.616010600Z"
    }
   }
  },
  {
   "cell_type": "markdown",
   "source": [
    "身份运算符，用于比较两个对象的储存单元,is is not"
   ],
   "metadata": {
    "collapsed": false
   }
  },
  {
   "cell_type": "code",
   "execution_count": 16,
   "outputs": [
    {
     "name": "stdout",
     "output_type": "stream",
     "text": [
      "yes\n",
      "yes\n",
      "no\n",
      "no\n"
     ]
    }
   ],
   "source": [
    "a = 20\n",
    "b = 20\n",
    "c = 30\n",
    "if a is b:\n",
    "    print(\"yes\")\n",
    "if id(a) == id(b):\n",
    "    print(\"yes\")\n",
    "if a is not c:\n",
    "    print(\"no\")\n",
    "if id(a) != id(c):\n",
    "    print(\"no\")"
   ],
   "metadata": {
    "collapsed": false,
    "ExecuteTime": {
     "end_time": "2024-03-18T13:53:46.738352300Z",
     "start_time": "2024-03-18T13:53:46.722740400Z"
    }
   }
  },
  {
   "cell_type": "markdown",
   "source": [
    "is 用于判断两个变量引用对象是否为同一个， == 用于判断引用变量的值是否相等。"
   ],
   "metadata": {
    "collapsed": false
   }
  }
 ],
 "metadata": {
  "kernelspec": {
   "display_name": "Python 3",
   "language": "python",
   "name": "python3"
  },
  "language_info": {
   "codemirror_mode": {
    "name": "ipython",
    "version": 2
   },
   "file_extension": ".py",
   "mimetype": "text/x-python",
   "name": "python",
   "nbconvert_exporter": "python",
   "pygments_lexer": "ipython2",
   "version": "2.7.6"
  }
 },
 "nbformat": 4,
 "nbformat_minor": 0
}
