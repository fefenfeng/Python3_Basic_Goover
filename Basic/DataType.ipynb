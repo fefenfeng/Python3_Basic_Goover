{
 "cells": [
  {
   "cell_type": "markdown",
   "source": [
    "# 基本数据类型\n",
    "Python 中的变量不需要声明。每个变量在使用前都必须赋值，变量赋值以后该变量才会被创建。\n",
    "在 Python 中，变量就是变量，它没有类型，我们所说的\"类型\"是变量所指的内存中对象的类型。"
   ],
   "metadata": {
    "collapsed": false
   }
  },
  {
   "cell_type": "code",
   "execution_count": 2,
   "metadata": {
    "collapsed": true,
    "ExecuteTime": {
     "end_time": "2024-03-17T11:58:59.835501800Z",
     "start_time": "2024-03-17T11:58:59.819860600Z"
    }
   },
   "outputs": [
    {
     "name": "stdout",
     "output_type": "stream",
     "text": [
      "100\n",
      "1000.0\n",
      "runoob\n"
     ]
    }
   ],
   "source": [
    "counter = 100          # 整型变量\n",
    "miles   = 1000.0       # 浮点型变量\n",
    "name    = \"runoob\"     # 字符串\n",
    "\n",
    "print (counter)\n",
    "print (miles)\n",
    "print (name)"
   ]
  },
  {
   "cell_type": "markdown",
   "source": [
    "# 标准数据类型\n",
    "Number（数字）, String（字符串）,bool（布尔类型）,List（列表）,Tuple（元组）,Set（集合）,Dictionary（字典）\n",
    "Python3 的六个标准数据类型中：\n",
    "不可变数据（3 个）：Number（数字）、String（字符串）、Tuple（元组）；\n",
    "可变数据（3 个）：List（列表）、Dictionary（字典）、Set（集合）。"
   ],
   "metadata": {
    "collapsed": false
   }
  },
  {
   "cell_type": "code",
   "execution_count": 5,
   "outputs": [
    {
     "name": "stdout",
     "output_type": "stream",
     "text": [
      "<class 'int'> <class 'float'> <class 'bool'> <class 'complex'>\n"
     ]
    },
    {
     "data": {
      "text/plain": "True"
     },
     "execution_count": 5,
     "metadata": {},
     "output_type": "execute_result"
    }
   ],
   "source": [
    "a, b, c, d = 20, 5.5, True, 4+3j\n",
    "print(type(a), type(b), type(c), type(d))\n",
    "isinstance(a, int)"
   ],
   "metadata": {
    "collapsed": false,
    "ExecuteTime": {
     "end_time": "2024-03-17T12:02:17.397900400Z",
     "start_time": "2024-03-17T12:02:17.350814300Z"
    }
   }
  },
  {
   "cell_type": "markdown",
   "source": [
    "isinstance 和 type 的区别在于：\n",
    "type()不会认为子类是一种父类类型。\n",
    "isinstance()会认为子类是一种父类类型。"
   ],
   "metadata": {
    "collapsed": false
   }
  },
  {
   "cell_type": "code",
   "execution_count": 9,
   "outputs": [
    {
     "data": {
      "text/plain": "True"
     },
     "execution_count": 9,
     "metadata": {},
     "output_type": "execute_result"
    }
   ],
   "source": [
    "class A:\n",
    "    pass\n",
    "class B(A):\n",
    "    pass\n",
    "isinstance(A(), A)"
   ],
   "metadata": {
    "collapsed": false,
    "ExecuteTime": {
     "end_time": "2024-03-17T12:05:08.141011500Z",
     "start_time": "2024-03-17T12:05:08.124994700Z"
    }
   }
  },
  {
   "cell_type": "code",
   "execution_count": 10,
   "outputs": [
    {
     "data": {
      "text/plain": "True"
     },
     "execution_count": 10,
     "metadata": {},
     "output_type": "execute_result"
    }
   ],
   "source": [
    "type(A()) == A\n"
   ],
   "metadata": {
    "collapsed": false,
    "ExecuteTime": {
     "end_time": "2024-03-17T12:05:14.548971700Z",
     "start_time": "2024-03-17T12:05:14.541635200Z"
    }
   }
  },
  {
   "cell_type": "code",
   "execution_count": 11,
   "outputs": [
    {
     "data": {
      "text/plain": "True"
     },
     "execution_count": 11,
     "metadata": {},
     "output_type": "execute_result"
    }
   ],
   "source": [
    "isinstance(B(), A)"
   ],
   "metadata": {
    "collapsed": false,
    "ExecuteTime": {
     "end_time": "2024-03-17T12:05:26.350847Z",
     "start_time": "2024-03-17T12:05:26.335226700Z"
    }
   }
  },
  {
   "cell_type": "code",
   "execution_count": 12,
   "outputs": [
    {
     "data": {
      "text/plain": "False"
     },
     "execution_count": 12,
     "metadata": {},
     "output_type": "execute_result"
    }
   ],
   "source": [
    "type(B()) == A"
   ],
   "metadata": {
    "collapsed": false,
    "ExecuteTime": {
     "end_time": "2024-03-17T12:05:34.381600400Z",
     "start_time": "2024-03-17T12:05:34.365419600Z"
    }
   }
  },
  {
   "cell_type": "markdown",
   "source": [
    "注意：Python3 中，bool 是 int 的子类，True 和 False 可以和数字相加， True==1、False==0 会返回 True，但可以通过 is 来判断类型。"
   ],
   "metadata": {
    "collapsed": false
   }
  },
  {
   "cell_type": "code",
   "execution_count": 13,
   "outputs": [
    {
     "name": "stdout",
     "output_type": "stream",
     "text": [
      "1 10\n"
     ]
    }
   ],
   "source": [
    "var1 = 1\n",
    "var2 = 10\n",
    "print(var1, var2)\n",
    "del var1, var2"
   ],
   "metadata": {
    "collapsed": false,
    "ExecuteTime": {
     "end_time": "2024-03-17T12:07:49.461966100Z",
     "start_time": "2024-03-17T12:07:49.446341400Z"
    }
   }
  },
  {
   "cell_type": "code",
   "execution_count": 14,
   "outputs": [
    {
     "ename": "NameError",
     "evalue": "name 'var1' is not defined",
     "output_type": "error",
     "traceback": [
      "\u001B[1;31m---------------------------------------------------------------------------\u001B[0m",
      "\u001B[1;31mNameError\u001B[0m                                 Traceback (most recent call last)",
      "Cell \u001B[1;32mIn[14], line 1\u001B[0m\n\u001B[1;32m----> 1\u001B[0m \u001B[38;5;28mprint\u001B[39m(\u001B[43mvar1\u001B[49m, var2)\n",
      "\u001B[1;31mNameError\u001B[0m: name 'var1' is not defined"
     ]
    }
   ],
   "source": [
    "print(var1, var2)"
   ],
   "metadata": {
    "collapsed": false,
    "ExecuteTime": {
     "end_time": "2024-03-17T12:08:00.534286800Z",
     "start_time": "2024-03-17T12:08:00.487413900Z"
    }
   }
  },
  {
   "cell_type": "code",
   "execution_count": 15,
   "outputs": [
    {
     "name": "stdout",
     "output_type": "stream",
     "text": [
      "9\n",
      "2.3\n",
      "21\n",
      "0.5\n",
      "0\n",
      "1\n",
      "32\n"
     ]
    }
   ],
   "source": [
    "print(5 + 4)\n",
    "print(4.3 - 2)\n",
    "print(3 * 7)\n",
    "print(2 / 4)\n",
    "print(2 // 4)\n",
    "print(16 % 3)\n",
    "print(2 ** 5)"
   ],
   "metadata": {
    "collapsed": false,
    "ExecuteTime": {
     "end_time": "2024-03-17T12:09:19.241239700Z",
     "start_time": "2024-03-17T12:09:19.194337600Z"
    }
   }
  },
  {
   "cell_type": "markdown",
   "source": [
    "Python 还支持复数，复数由实数部分和虚数部分构成，可以用 a + bj，或者 complex(a,b) 表示， 复数的实部 a 和虚部 b 都是浮点型。"
   ],
   "metadata": {
    "collapsed": false
   }
  },
  {
   "cell_type": "markdown",
   "source": [
    "# String (字符串）\n",
    "注意，Python 没有单独的字符类型，一个字符就是长度为1的字符串。Python中字符串不可变"
   ],
   "metadata": {
    "collapsed": false
   }
  },
  {
   "cell_type": "code",
   "execution_count": 16,
   "outputs": [
    {
     "name": "stdout",
     "output_type": "stream",
     "text": [
      "Runoob\n",
      "Runoo\n",
      "uno\n",
      "RunoobRunoob\n",
      "RunoobRunoob\n",
      "RunoobTest\n"
     ]
    }
   ],
   "source": [
    "str = 'Runoob'\n",
    "print(str)\n",
    "print(str[0:-1])\n",
    "print(str[1:-2])\n",
    "print(str * 2)\n",
    "print(str + str)\n",
    "print(str + 'Test')"
   ],
   "metadata": {
    "collapsed": false,
    "ExecuteTime": {
     "end_time": "2024-03-18T07:35:31.605689900Z",
     "start_time": "2024-03-18T07:35:31.600499300Z"
    }
   }
  },
  {
   "cell_type": "markdown",
   "source": [
    "# bool\n",
    "注意: 在 Python 中，所有非零的数字和非空的字符串、列表、元组等数据类型都被视为 True，只有 0、空字符串、空列表、空元组等被视为 False。因此，在进行布尔类型转换时，需要注意数据类型的真假性。"
   ],
   "metadata": {
    "collapsed": false
   }
  },
  {
   "cell_type": "code",
   "execution_count": 19,
   "outputs": [
    {
     "name": "stdout",
     "output_type": "stream",
     "text": [
      "True\n",
      "False\n",
      "False\n",
      "True\n",
      "False\n",
      "1\n",
      "0.0\n"
     ]
    },
    {
     "ename": "TypeError",
     "evalue": "'str' object is not callable",
     "output_type": "error",
     "traceback": [
      "\u001B[1;31m---------------------------------------------------------------------------\u001B[0m",
      "\u001B[1;31mTypeError\u001B[0m                                 Traceback (most recent call last)",
      "Cell \u001B[1;32mIn[19], line 16\u001B[0m\n\u001B[0;32m     14\u001B[0m \u001B[38;5;28mprint\u001B[39m(\u001B[38;5;28mint\u001B[39m(a))\n\u001B[0;32m     15\u001B[0m \u001B[38;5;28mprint\u001B[39m(\u001B[38;5;28mfloat\u001B[39m(b))\n\u001B[1;32m---> 16\u001B[0m \u001B[38;5;28mprint\u001B[39m(\u001B[38;5;28;43mstr\u001B[39;49m\u001B[43m(\u001B[49m\u001B[38;5;28;43;01mTrue\u001B[39;49;00m\u001B[43m)\u001B[49m)\n",
      "\u001B[1;31mTypeError\u001B[0m: 'str' object is not callable"
     ]
    }
   ],
   "source": [
    "a = True\n",
    "b = False\n",
    "\n",
    "# compare\n",
    "print(1 < 3)\n",
    "print(1 == 3)\n",
    "\n",
    "# logic computation\n",
    "print(a and b)\n",
    "print(a or b)\n",
    "print(not a)\n",
    "\n",
    "# type transform\n",
    "print(int(a))\n",
    "print(float(b))\n",
    "# print(str(True))"
   ],
   "metadata": {
    "collapsed": false,
    "ExecuteTime": {
     "end_time": "2024-03-18T07:42:18.720451600Z",
     "start_time": "2024-03-18T07:42:18.704682800Z"
    }
   }
  },
  {
   "cell_type": "markdown",
   "source": [
    "# List（列表）\n",
    "列表可以完成大多数集合类的数据结构实现。列表中元素的类型可以不相同，它支持数字，字符串甚至可以包含列表（所谓嵌套）\n",
    "列表是写在方括号 [] 之间、用逗号分隔开的元素列表。\n",
    "和字符串一样，列表同样可以被索引和截取，列表被截取后返回一个包含所需元素的新列表。"
   ],
   "metadata": {
    "collapsed": false
   }
  },
  {
   "cell_type": "code",
   "execution_count": 20,
   "outputs": [
    {
     "name": "stdout",
     "output_type": "stream",
     "text": [
      "['abcd', 786, 2023, 'runoob', 70.2]\n",
      "786\n",
      "[2023]\n",
      "['runoob', 70.2]\n",
      "[123, 'runoob', 123, 'runoob']\n",
      "['abcd', 786, 2023, 'runoob', 70.2, 123, 'runoob']\n"
     ]
    }
   ],
   "source": [
    "list = ['abcd', 786, 2023, 'runoob', 70.2]\n",
    "tinylist = [123, 'runoob']\n",
    "\n",
    "print(list)\n",
    "print(list[1])\n",
    "print(list[2:3])\n",
    "print(list[3:])\n",
    "print(tinylist * 2)\n",
    "print(list + tinylist)"
   ],
   "metadata": {
    "collapsed": false,
    "ExecuteTime": {
     "end_time": "2024-03-18T07:46:20.367643300Z",
     "start_time": "2024-03-18T07:46:20.351259600Z"
    }
   }
  },
  {
   "cell_type": "markdown",
   "source": [
    "与Python字符串不一样的是，列表中的元素是可以改变的："
   ],
   "metadata": {
    "collapsed": false
   }
  },
  {
   "cell_type": "code",
   "execution_count": 23,
   "outputs": [
    {
     "name": "stdout",
     "output_type": "stream",
     "text": [
      "[1, 2, 3, 4, 5, 6]\n",
      "[7, 2, 3, 4, 5, 6]\n",
      "[7, 8, 9, 10, 5, 6]\n",
      "[7, 8, 9, 10]\n",
      "[11, 8, 12, 10]\n"
     ]
    }
   ],
   "source": [
    "a = [1, 2, 3, 4, 5, 6]\n",
    "print(a)\n",
    "a[0] = 7\n",
    "print(a)\n",
    "a[1:4] = [8, 9, 10]\n",
    "print(a)\n",
    "a[4:] = []\n",
    "print(a)\n",
    "a[0:-1:2] = [11, 12]\n",
    "print(a)"
   ],
   "metadata": {
    "collapsed": false,
    "ExecuteTime": {
     "end_time": "2024-03-18T07:49:55.034012600Z",
     "start_time": "2024-03-18T07:49:55.025857Z"
    }
   }
  },
  {
   "cell_type": "markdown",
   "source": [
    "步长参数为复数表示可以逆向读取，如以下翻转字符串"
   ],
   "metadata": {
    "collapsed": false
   }
  },
  {
   "cell_type": "code",
   "execution_count": 27,
   "outputs": [
    {
     "name": "stdout",
     "output_type": "stream",
     "text": [
      "['runoob', 'like', 'I']\n",
      "runoob like I\n"
     ]
    }
   ],
   "source": [
    "def reversewords(input):\n",
    "    inputwords = input.split(\" \") # 通过空格分割字符串\n",
    "    inputwords = inputwords[-1::-1]\n",
    "    output = ' '.join(inputwords)\n",
    "\n",
    "    return inputwords, output\n",
    "\n",
    "if __name__ == \"__main__\":\n",
    "    input = 'I like runoob'\n",
    "    inputwordstest, outputtest = reversewords(input)\n",
    "    print(inputwordstest)\n",
    "    print(outputtest)"
   ],
   "metadata": {
    "collapsed": false,
    "ExecuteTime": {
     "end_time": "2024-03-18T07:57:26.392737400Z",
     "start_time": "2024-03-18T07:57:26.376572700Z"
    }
   }
  },
  {
   "cell_type": "markdown",
   "source": [
    "# Tuple (元组）\n",
    "元组（tuple）与列表类似，不同之处在于元组的元素不能修改。元组写在小括号 () 里，元素之间用逗号隔开。\n",
    "元组中的元素类型也可以不相同："
   ],
   "metadata": {
    "collapsed": false
   }
  },
  {
   "cell_type": "code",
   "execution_count": 28,
   "outputs": [
    {
     "name": "stdout",
     "output_type": "stream",
     "text": [
      "('abcd', 786, 2.23, 'runoob', 70.2)\n",
      "786\n",
      "('abcd', 786, 2.23)\n",
      "(123, 'runoob', 123, 'runoob')\n",
      "(123, 'runoob', 'abcd', 786, 2.23, 'runoob', 70.2)\n"
     ]
    }
   ],
   "source": [
    "tuplecase = ('abcd', 786, 2.23, 'runoob', 70.2)\n",
    "tinytuple = (123, 'runoob')\n",
    "\n",
    "print(tuplecase)\n",
    "print(tuplecase[1])\n",
    "print(tuplecase[:-2])\n",
    "print(tinytuple * 2)\n",
    "print(tinytuple + tuplecase)"
   ],
   "metadata": {
    "collapsed": false,
    "ExecuteTime": {
     "end_time": "2024-03-18T08:00:19.152894100Z",
     "start_time": "2024-03-18T08:00:19.152894100Z"
    }
   }
  },
  {
   "cell_type": "markdown",
   "source": [
    "虽然tuple的元素不可改变，但它可以包含可变的对象，比如list列表。\n",
    "构造包含 0 个或 1 个元素的元组比较特殊，所以有一些额外的语法规则："
   ],
   "metadata": {
    "collapsed": false
   }
  },
  {
   "cell_type": "code",
   "execution_count": 29,
   "outputs": [
    {
     "name": "stdout",
     "output_type": "stream",
     "text": [
      "<class 'tuple'> <class 'tuple'> <class 'int'>\n"
     ]
    }
   ],
   "source": [
    "tup1 = ()\n",
    "tup2 = (20,)\n",
    "tup3 = (30)\n",
    "\n",
    "print(type(tup1), type(tup2), type(tup3))"
   ],
   "metadata": {
    "collapsed": false,
    "ExecuteTime": {
     "end_time": "2024-03-18T08:04:15.656374700Z",
     "start_time": "2024-03-18T08:04:15.640653800Z"
    }
   }
  },
  {
   "cell_type": "markdown",
   "source": [
    "string、list 和 tuple 都属于 sequence（序列）。"
   ],
   "metadata": {
    "collapsed": false
   }
  },
  {
   "cell_type": "markdown",
   "source": [
    "# Set (集合）\n",
    "Python 中的集合（Set）是一种无序、可变的数据类型，用于存储唯一的元素。\n",
    "集合中的元素不会重复，并且可以进行交集、并集、差集等常见的集合操作。\n",
    "在 Python 中，集合使用大括号 {} 表示，元素之间用逗号 , 分隔。\n",
    "\n",
    "另外，也可以使用 set() 函数创建集合。\n",
    "注意：创建一个空集合必须用 set() 而不是 { }，因为 { } 是用来创建一个空字典。"
   ],
   "metadata": {
    "collapsed": false
   }
  },
  {
   "cell_type": "code",
   "execution_count": 31,
   "outputs": [
    {
     "name": "stdout",
     "output_type": "stream",
     "text": [
      "{'Google', 'Zhihu', 'Runoob', 'Baidu', 'Facebook', 'Taobao'}\n",
      "yes\n"
     ]
    }
   ],
   "source": [
    "sites = {'Google', 'Taobao', 'Runoob', 'Facebook', 'Zhihu', 'Baidu'}\n",
    "print(sites)\n",
    "\n",
    "if 'Runoob' in sites:\n",
    "    print('yes')\n",
    "else:\n",
    "    print('no')"
   ],
   "metadata": {
    "collapsed": false,
    "ExecuteTime": {
     "end_time": "2024-03-18T08:07:36.661789Z",
     "start_time": "2024-03-18T08:07:36.644839400Z"
    }
   }
  },
  {
   "cell_type": "code",
   "execution_count": 32,
   "outputs": [
    {
     "name": "stdout",
     "output_type": "stream",
     "text": [
      "{'a', 'f', 'g', 'd', 'e', 'c', 'b'} <class 'set'>\n",
      "{'b', 'c', 'd', 'a'} <class 'set'>\n",
      "{'g', 'e', 'f'}\n",
      "{'a', 'f', 'g', 'd', 'e', 'c', 'b'}\n",
      "{'b', 'd', 'a', 'c'}\n",
      "{'f', 'g', 'e'}\n"
     ]
    }
   ],
   "source": [
    "a = set('abcdefgabcdef')\n",
    "b = set('abcdabc')\n",
    "print(a, type(a))\n",
    "print(b, type(b))\n",
    "\n",
    "print(a - b) # a 和 b 的差集\n",
    "print(a | b) # 并集\n",
    "print(a & b) # 交集\n",
    "print(a ^ b) # 不同时存在的元素，异或"
   ],
   "metadata": {
    "collapsed": false,
    "ExecuteTime": {
     "end_time": "2024-03-18T08:17:37.959340400Z",
     "start_time": "2024-03-18T08:17:37.943808600Z"
    }
   }
  },
  {
   "cell_type": "markdown",
   "source": [
    "# Dictionary （字典）\n",
    "列表是有序的对象集合，字典是无序的对象集合。两者之间的区别在于：字典当中的元素是通过键来存取的，而不是通过偏移存取。\n",
    "字典是一种映射类型，字典用 { } 标识，它是一个无序的 键(key) : 值(value) 的集合。\n",
    "键(key)必须使用不可变类型。在同一个字典中，键(key)必须是唯一的。"
   ],
   "metadata": {
    "collapsed": false
   }
  },
  {
   "cell_type": "code",
   "execution_count": 34,
   "outputs": [
    {
     "name": "stdout",
     "output_type": "stream",
     "text": [
      "{'one': '第一个元素', 2: '第二个元素'}\n",
      "第一个元素\n",
      "第二个元素\n",
      "{'name': 'feng', 'age': 23, 'height': 1.83}\n",
      "dict_keys(['name', 'age', 'height'])\n",
      "dict_values(['feng', 23, 1.83])\n",
      "name <class 'str'>\n",
      "age <class 'str'>\n",
      "height <class 'str'>\n",
      "feng <class 'str'>\n",
      "23 <class 'int'>\n",
      "1.83 <class 'float'>\n"
     ]
    }
   ],
   "source": [
    "dict = {}\n",
    "dict['one'] = \"第一个元素\"\n",
    "dict[2] = \"第二个元素\"\n",
    "\n",
    "tinydict = {'name': 'feng', 'age' : 23, 'height' : 1.83}\n",
    "\n",
    "print(dict)\n",
    "print(dict['one'])\n",
    "print(dict[2])\n",
    "print(tinydict)\n",
    "print(tinydict.keys())\n",
    "print(tinydict.values())\n",
    "for i in tinydict.keys():\n",
    "    print(i, type(i))\n",
    "for i in tinydict.values():\n",
    "    print(i, type(i))"
   ],
   "metadata": {
    "collapsed": false,
    "ExecuteTime": {
     "end_time": "2024-03-18T08:25:44.723727100Z",
     "start_time": "2024-03-18T08:25:44.708128700Z"
    }
   }
  },
  {
   "cell_type": "markdown",
   "source": [
    "构造函数 dict() 可以直接从键值对序列中构建字典如下："
   ],
   "metadata": {
    "collapsed": false
   }
  },
  {
   "cell_type": "code",
   "execution_count": 36,
   "outputs": [
    {
     "name": "stdout",
     "output_type": "stream",
     "text": [
      "{1: 1, 2: 4, 3: 9}\n"
     ]
    }
   ],
   "source": [
    "a = {x : x ** 2 for x in (1, 2, 3)}\n",
    "print(a)"
   ],
   "metadata": {
    "collapsed": false,
    "ExecuteTime": {
     "end_time": "2024-03-18T08:28:44.679245200Z",
     "start_time": "2024-03-18T08:28:44.663622100Z"
    }
   }
  },
  {
   "cell_type": "code",
   "execution_count": 37,
   "outputs": [
    {
     "ename": "TypeError",
     "evalue": "'dict' object is not callable",
     "output_type": "error",
     "traceback": [
      "\u001B[1;31m---------------------------------------------------------------------------\u001B[0m",
      "\u001B[1;31mTypeError\u001B[0m                                 Traceback (most recent call last)",
      "Cell \u001B[1;32mIn[37], line 1\u001B[0m\n\u001B[1;32m----> 1\u001B[0m b \u001B[38;5;241m=\u001B[39m \u001B[38;5;28;43mdict\u001B[39;49m\u001B[43m(\u001B[49m\u001B[43mRunoob\u001B[49m\u001B[38;5;241;43m=\u001B[39;49m\u001B[38;5;241;43m1\u001B[39;49m\u001B[43m,\u001B[49m\u001B[43m \u001B[49m\u001B[43mGoogle\u001B[49m\u001B[38;5;241;43m=\u001B[39;49m\u001B[38;5;241;43m2\u001B[39;49m\u001B[43m,\u001B[49m\u001B[43m \u001B[49m\u001B[43mTaobao\u001B[49m\u001B[38;5;241;43m=\u001B[39;49m\u001B[38;5;241;43m3\u001B[39;49m\u001B[43m)\u001B[49m\n\u001B[0;32m      2\u001B[0m \u001B[38;5;28mprint\u001B[39m(b)\n",
      "\u001B[1;31mTypeError\u001B[0m: 'dict' object is not callable"
     ]
    }
   ],
   "source": [
    "# b = dict(Runoob=1, Google=2, Taobao=3)\n",
    "# print(b)"
   ],
   "metadata": {
    "collapsed": false,
    "ExecuteTime": {
     "end_time": "2024-03-18T08:29:19.034940200Z",
     "start_time": "2024-03-18T08:29:18.988074500Z"
    }
   }
  },
  {
   "cell_type": "markdown",
   "source": [
    "# bytes\n",
    "在 Python3 中，bytes 类型表示的是不可变的二进制序列（byte sequence）。\n",
    "与字符串类型不同的是，bytes 类型中的元素是整数值（0 到 255 之间的整数），而不是 Unicode 字符。\n",
    "bytes 类型通常用于处理二进制数据，比如图像文件、音频文件、视频文件等等。在网络编程中，也经常使用 bytes 类型来传输二进制数据。\n",
    "\n",
    "创建 bytes 对象的方式有多种，最常见的方式是使用 b 前缀：\n",
    "\n",
    "此外，也可以使用 bytes() 函数将其他类型的对象转换为 bytes 类型。bytes() 函数的第一个参数是要转换的对象，第二个参数是编码方式，如果省略第二个参数，则默认使用 UTF-8 编码："
   ],
   "metadata": {
    "collapsed": false
   }
  },
  {
   "cell_type": "code",
   "execution_count": 38,
   "outputs": [
    {
     "name": "stdout",
     "output_type": "stream",
     "text": [
      "b'hello' <class 'bytes'>\n"
     ]
    }
   ],
   "source": [
    "x = bytes(\"hello\", encoding=\"utf-8\")\n",
    "print(x, type(x))"
   ],
   "metadata": {
    "collapsed": false,
    "ExecuteTime": {
     "end_time": "2024-03-18T08:31:13.682021700Z",
     "start_time": "2024-03-18T08:31:13.666304500Z"
    }
   }
  },
  {
   "cell_type": "markdown",
   "source": [
    "与字符串类型类似，bytes 类型也支持许多操作和方法，如切片、拼接、查找、替换等等。同时，由于 bytes 类型是不可变的，因此在进行修改操作时需要创建一个新的 bytes 对象\n",
    "需要注意的是，bytes 类型中的元素是整数值，因此在进行比较操作时需要使用相应的整数值。例如："
   ],
   "metadata": {
    "collapsed": false
   }
  },
  {
   "cell_type": "code",
   "execution_count": 39,
   "outputs": [
    {
     "name": "stdout",
     "output_type": "stream",
     "text": [
      "The first element is 'h'\n"
     ]
    }
   ],
   "source": [
    "x = b\"hello\"\n",
    "if x[0] == ord(\"h\"): # ord() 函数用于将字符转换为相应的整数值。\n",
    "    print(\"The first element is 'h'\")"
   ],
   "metadata": {
    "collapsed": false,
    "ExecuteTime": {
     "end_time": "2024-03-18T08:33:27.399487700Z",
     "start_time": "2024-03-18T08:33:27.383852300Z"
    }
   }
  },
  {
   "cell_type": "markdown",
   "source": [
    "type 是用于求一个未知数据类型对象，而 isinstance 是用于判断一个对象是否是已知类型\n",
    "type 不认为子类是父类的一种类型，而isinstance会认为子类是父类的一种类型。\n",
    "可以用 isinstance 判断子类对象是否继承于父类，type 不行。\n",
    "综合以上几点，type 与 isinstance 虽然都与数据类型相关，但两者其实用法不同，type 主要用于判断未知数据类型，isinstance 主要用于判断 A 类是否继承于 B 类"
   ],
   "metadata": {
    "collapsed": false
   }
  },
  {
   "cell_type": "markdown",
   "source": [
    "输入 dict 的键值对，可直接用 items() 函数"
   ],
   "metadata": {
    "collapsed": false
   }
  },
  {
   "cell_type": "code",
   "execution_count": 40,
   "outputs": [
    {
     "name": "stdout",
     "output_type": "stream",
     "text": [
      "abc : 1\n",
      "cde : 2\n",
      "d : key1\n",
      "c : 567\n"
     ]
    }
   ],
   "source": [
    "dict1 = {'abc':1,\"cde\":2,\"d\":4,\"c\":567,\"d\":\"key1\"}\n",
    "for k,v in dict1.items():\n",
    "    print(k,\":\",v)"
   ],
   "metadata": {
    "collapsed": false,
    "ExecuteTime": {
     "end_time": "2024-03-18T08:37:56.690864800Z",
     "start_time": "2024-03-18T08:37:56.690864800Z"
    }
   }
  },
  {
   "cell_type": "code",
   "execution_count": null,
   "outputs": [],
   "source": [],
   "metadata": {
    "collapsed": false
   }
  }
 ],
 "metadata": {
  "kernelspec": {
   "display_name": "Python 3",
   "language": "python",
   "name": "python3"
  },
  "language_info": {
   "codemirror_mode": {
    "name": "ipython",
    "version": 2
   },
   "file_extension": ".py",
   "mimetype": "text/x-python",
   "name": "python",
   "nbconvert_exporter": "python",
   "pygments_lexer": "ipython2",
   "version": "2.7.6"
  }
 },
 "nbformat": 4,
 "nbformat_minor": 0
}
