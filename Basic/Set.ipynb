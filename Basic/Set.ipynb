{
 "cells": [
  {
   "cell_type": "markdown",
   "source": [
    "# Set 集合\n",
    "无序不重复元素序列，可进行交并差等集合操作\n",
    "{}或set()函数创建集合"
   ],
   "metadata": {
    "collapsed": false
   }
  },
  {
   "cell_type": "code",
   "execution_count": 1,
   "metadata": {
    "collapsed": true,
    "ExecuteTime": {
     "end_time": "2024-03-22T11:07:55.840144300Z",
     "start_time": "2024-03-22T11:07:55.824493600Z"
    }
   },
   "outputs": [],
   "source": [
    "set1 = {1, 2, 3, 4}\n",
    "set2 = set([4, 5, 6, 7]) # from list"
   ]
  },
  {
   "cell_type": "markdown",
   "source": [
    "基本语法操作"
   ],
   "metadata": {
    "collapsed": false
   }
  },
  {
   "cell_type": "code",
   "execution_count": 2,
   "outputs": [
    {
     "name": "stdout",
     "output_type": "stream",
     "text": [
      "{'Facebook', 'Runoob', 'Google', 'Taobao'}\n"
     ]
    }
   ],
   "source": [
    "set1 = set((\"Google\", \"Runoob\", \"Taobao\"))\n",
    "set1.add(\"Facebook\")\n",
    "print(set1)"
   ],
   "metadata": {
    "collapsed": false,
    "ExecuteTime": {
     "end_time": "2024-03-22T11:12:59.580878200Z",
     "start_time": "2024-03-22T11:12:59.549449600Z"
    }
   }
  },
  {
   "cell_type": "code",
   "execution_count": 3,
   "outputs": [],
   "source": [
    "set1.update({1, 3})"
   ],
   "metadata": {
    "collapsed": false,
    "ExecuteTime": {
     "end_time": "2024-03-22T11:13:31.517902800Z",
     "start_time": "2024-03-22T11:13:31.512897Z"
    }
   }
  },
  {
   "cell_type": "code",
   "execution_count": 4,
   "outputs": [
    {
     "name": "stdout",
     "output_type": "stream",
     "text": [
      "{1, 3, 'Runoob', 'Google', 'Facebook', 'Taobao'}\n"
     ]
    }
   ],
   "source": [
    "print(set1)"
   ],
   "metadata": {
    "collapsed": false,
    "ExecuteTime": {
     "end_time": "2024-03-22T11:13:36.700694400Z",
     "start_time": "2024-03-22T11:13:36.684925Z"
    }
   }
  },
  {
   "cell_type": "code",
   "execution_count": 5,
   "outputs": [
    {
     "name": "stdout",
     "output_type": "stream",
     "text": [
      "{1, 3, 4, 5, 6, 'Facebook', 'Google', 'Runoob', 'Taobao'}\n"
     ]
    }
   ],
   "source": [
    "set1.update([1, 4], [5, 6])\n",
    "print(set1)"
   ],
   "metadata": {
    "collapsed": false,
    "ExecuteTime": {
     "end_time": "2024-03-22T11:14:13.483260100Z",
     "start_time": "2024-03-22T11:14:13.435201100Z"
    }
   }
  },
  {
   "cell_type": "code",
   "execution_count": 6,
   "outputs": [
    {
     "name": "stdout",
     "output_type": "stream",
     "text": [
      "{3, 4, 5, 6, 'Facebook', 'Google', 'Runoob', 'Taobao'}\n"
     ]
    }
   ],
   "source": [
    "set1.remove(1)\n",
    "print(set1)"
   ],
   "metadata": {
    "collapsed": false,
    "ExecuteTime": {
     "end_time": "2024-03-22T11:14:34.586638200Z",
     "start_time": "2024-03-22T11:14:34.570926Z"
    }
   }
  },
  {
   "cell_type": "code",
   "execution_count": 7,
   "outputs": [
    {
     "name": "stdout",
     "output_type": "stream",
     "text": [
      "{3, 4, 5, 6, 'Facebook', 'Google', 'Runoob', 'Taobao'}\n",
      "{4, 5, 6, 'Facebook', 'Google', 'Runoob', 'Taobao'}\n"
     ]
    }
   ],
   "source": [
    "set1.discard(1)\n",
    "print(set1)\n",
    "set1.discard(3)\n",
    "print(set1)"
   ],
   "metadata": {
    "collapsed": false,
    "ExecuteTime": {
     "end_time": "2024-03-22T11:15:13.793840300Z",
     "start_time": "2024-03-22T11:15:13.778780800Z"
    }
   }
  },
  {
   "cell_type": "code",
   "execution_count": 8,
   "outputs": [
    {
     "name": "stdout",
     "output_type": "stream",
     "text": [
      "7\n",
      "4\n",
      "6\n"
     ]
    }
   ],
   "source": [
    "print(len(set1))\n",
    "print(set1.pop())\n",
    "print(len(set1))"
   ],
   "metadata": {
    "collapsed": false,
    "ExecuteTime": {
     "end_time": "2024-03-22T11:16:44.180994100Z",
     "start_time": "2024-03-22T11:16:44.165357700Z"
    }
   }
  },
  {
   "cell_type": "code",
   "execution_count": 9,
   "outputs": [
    {
     "name": "stdout",
     "output_type": "stream",
     "text": [
      "set()\n"
     ]
    }
   ],
   "source": [
    "set1.clear()\n",
    "print(set1)"
   ],
   "metadata": {
    "collapsed": false,
    "ExecuteTime": {
     "end_time": "2024-03-22T11:17:02.903770600Z",
     "start_time": "2024-03-22T11:17:02.888123800Z"
    }
   }
  },
  {
   "cell_type": "code",
   "execution_count": 13,
   "outputs": [
    {
     "name": "stdout",
     "output_type": "stream",
     "text": [
      "yes\n"
     ]
    }
   ],
   "source": [
    "set2 = {1, 2, 3, 4}\n",
    "if 4 in set2:\n",
    "    print(\"yes\")"
   ],
   "metadata": {
    "collapsed": false,
    "ExecuteTime": {
     "end_time": "2024-03-22T11:18:25.677034800Z",
     "start_time": "2024-03-22T11:18:25.669074700Z"
    }
   }
  }
 ],
 "metadata": {
  "kernelspec": {
   "display_name": "Python 3",
   "language": "python",
   "name": "python3"
  },
  "language_info": {
   "codemirror_mode": {
    "name": "ipython",
    "version": 2
   },
   "file_extension": ".py",
   "mimetype": "text/x-python",
   "name": "python",
   "nbconvert_exporter": "python",
   "pygments_lexer": "ipython2",
   "version": "2.7.6"
  }
 },
 "nbformat": 4,
 "nbformat_minor": 0
}
