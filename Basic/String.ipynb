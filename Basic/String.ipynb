{
 "cells": [
  {
   "cell_type": "markdown",
   "source": [
    "# String 字符串\n",
    "Python 不支持单字符类型，单字符在 Python 中也是作为一个字符串使用。\n",
    "Python 访问子字符串，可以使用方括号 [] 来截取字符串"
   ],
   "metadata": {
    "collapsed": false
   }
  },
  {
   "cell_type": "code",
   "execution_count": 2,
   "metadata": {
    "collapsed": true,
    "ExecuteTime": {
     "end_time": "2024-03-19T07:42:42.073610400Z",
     "start_time": "2024-03-19T07:42:42.056925500Z"
    }
   },
   "outputs": [
    {
     "name": "stdout",
     "output_type": "stream",
     "text": [
      "\u0007\n"
     ]
    }
   ],
   "source": [
    "print(\"\\a\")"
   ]
  },
  {
   "cell_type": "code",
   "execution_count": 4,
   "outputs": [
    {
     "name": "stdout",
     "output_type": "stream",
     "text": [
      "Hello World!\n",
      "Hello  World!\n"
     ]
    }
   ],
   "source": [
    "print(\"Hello  \\bWorld!\")\n",
    "print(\"Hello  World!\")"
   ],
   "metadata": {
    "collapsed": false,
    "ExecuteTime": {
     "end_time": "2024-03-19T07:43:26.623151900Z",
     "start_time": "2024-03-19T07:43:26.619047100Z"
    }
   }
  },
  {
   "cell_type": "code",
   "execution_count": 5,
   "outputs": [
    {
     "name": "stdout",
     "output_type": "stream",
     "text": [
      "\u0000\n"
     ]
    }
   ],
   "source": [
    "print(\"\\000\")"
   ],
   "metadata": {
    "collapsed": false,
    "ExecuteTime": {
     "end_time": "2024-03-19T07:43:43.689270300Z",
     "start_time": "2024-03-19T07:43:43.677269900Z"
    }
   }
  },
  {
   "cell_type": "code",
   "execution_count": 6,
   "outputs": [
    {
     "name": "stdout",
     "output_type": "stream",
     "text": [
      "Hello \u000B world!\n",
      "Hello \t world!\n"
     ]
    }
   ],
   "source": [
    "print(\"Hello \\v world!\")\n",
    "print(\"Hello \\t world!\")"
   ],
   "metadata": {
    "collapsed": false,
    "ExecuteTime": {
     "end_time": "2024-03-19T07:44:25.805751700Z",
     "start_time": "2024-03-19T07:44:25.788282200Z"
    }
   }
  },
  {
   "cell_type": "code",
   "execution_count": 7,
   "outputs": [
    {
     "name": "stdout",
     "output_type": "stream",
     "text": [
      "world!\n"
     ]
    }
   ],
   "source": [
    "print(\"Hello \\rworld!\")"
   ],
   "metadata": {
    "collapsed": false,
    "ExecuteTime": {
     "end_time": "2024-03-19T07:45:19.681756100Z",
     "start_time": "2024-03-19T07:45:19.664152900Z"
    }
   }
  },
  {
   "cell_type": "code",
   "execution_count": 8,
   "outputs": [
    {
     "name": "stdout",
     "output_type": "stream",
     "text": [
      "Hello \f world!\n"
     ]
    }
   ],
   "source": [
    "print(\"Hello \\f world!\")"
   ],
   "metadata": {
    "collapsed": false,
    "ExecuteTime": {
     "end_time": "2024-03-19T07:45:32.860966300Z",
     "start_time": "2024-03-19T07:45:32.860966300Z"
    }
   }
  },
  {
   "cell_type": "markdown",
   "source": [
    "使用\\r实现百分比进度"
   ],
   "metadata": {
    "collapsed": false
   }
  },
  {
   "cell_type": "code",
   "execution_count": 28,
   "outputs": [
    {
     "name": "stdout",
     "output_type": "stream",
     "text": [
      "100% "
     ]
    }
   ],
   "source": [
    "import time\n",
    "\n",
    "for i in range(101):\n",
    "    print(\"\\r{}%\".format(i),end=' ')\n",
    "    time.sleep(0.05)"
   ],
   "metadata": {
    "collapsed": false,
    "ExecuteTime": {
     "end_time": "2024-03-19T08:11:28.071501700Z",
     "start_time": "2024-03-19T08:11:22.014663600Z"
    }
   }
  },
  {
   "cell_type": "markdown",
   "source": [
    "字符串格式化"
   ],
   "metadata": {
    "collapsed": false
   }
  },
  {
   "cell_type": "code",
   "execution_count": 20,
   "outputs": [
    {
     "name": "stdout",
     "output_type": "stream",
     "text": [
      "我叫FengFeng今年22岁, 身高1.82m\n"
     ]
    }
   ],
   "source": [
    "print(\"我叫%s今年%d岁, 身高%.2fm\" % ('FengFeng', 22, 1.823456))"
   ],
   "metadata": {
    "collapsed": false,
    "ExecuteTime": {
     "end_time": "2024-03-19T07:55:50.150269800Z",
     "start_time": "2024-03-19T07:55:50.134666400Z"
    }
   }
  },
  {
   "cell_type": "markdown",
   "source": [
    "format格式化函数"
   ],
   "metadata": {
    "collapsed": false
   }
  },
  {
   "cell_type": "code",
   "execution_count": 21,
   "outputs": [
    {
     "name": "stdout",
     "output_type": "stream",
     "text": [
      "hello world\n"
     ]
    }
   ],
   "source": [
    "print(\"{} {}\".format(\"hello\", \"world\"))"
   ],
   "metadata": {
    "collapsed": false,
    "ExecuteTime": {
     "end_time": "2024-03-19T07:59:17.316319900Z",
     "start_time": "2024-03-19T07:59:17.313780200Z"
    }
   }
  },
  {
   "cell_type": "code",
   "execution_count": 22,
   "outputs": [
    {
     "name": "stdout",
     "output_type": "stream",
     "text": [
      "hello world world hello\n"
     ]
    }
   ],
   "source": [
    "print(\"{0} {1} {1} {0}\".format(\"hello\", \"world\"))"
   ],
   "metadata": {
    "collapsed": false,
    "ExecuteTime": {
     "end_time": "2024-03-19T08:00:13.431078700Z",
     "start_time": "2024-03-19T08:00:13.415432500Z"
    }
   }
  },
  {
   "cell_type": "code",
   "execution_count": 24,
   "outputs": [
    {
     "name": "stdout",
     "output_type": "stream",
     "text": [
      "网站名：菜鸟教程, 地址123456\n",
      "网站名：菜鸟教程, 地址123456\n"
     ]
    }
   ],
   "source": [
    "print(\"网站名：{name}, 地址{url}\".format(name = \"菜鸟教程\", url = \"123456\"))\n",
    "\n",
    "my_dict = {\"name1\" : \"菜鸟教程\", \"url1\" : \"123456\"}\n",
    "print(\"网站名：{name1}, 地址{url1}\".format(**my_dict))"
   ],
   "metadata": {
    "collapsed": false,
    "ExecuteTime": {
     "end_time": "2024-03-19T08:04:01.316891500Z",
     "start_time": "2024-03-19T08:04:01.301169400Z"
    }
   }
  },
  {
   "cell_type": "code",
   "execution_count": 25,
   "outputs": [
    {
     "name": "stdout",
     "output_type": "stream",
     "text": [
      "网站名:菜鸟教程, 地址:123456\n"
     ]
    }
   ],
   "source": [
    "my_list = [\"菜鸟教程\", \"123456\"]\n",
    "print(\"网站名:{}, 地址:{}\".format(*my_list))"
   ],
   "metadata": {
    "collapsed": false,
    "ExecuteTime": {
     "end_time": "2024-03-19T08:05:44.893664800Z",
     "start_time": "2024-03-19T08:05:44.878055600Z"
    }
   }
  },
  {
   "cell_type": "markdown",
   "source": [
    "也可以传入对象"
   ],
   "metadata": {
    "collapsed": false
   }
  },
  {
   "cell_type": "code",
   "execution_count": 26,
   "outputs": [
    {
     "name": "stdout",
     "output_type": "stream",
     "text": [
      "value 为: 6\n"
     ]
    }
   ],
   "source": [
    "class AssignValue(object):\n",
    "    def __init__(self, value):\n",
    "        self.value = value\n",
    "my_value = AssignValue(6)\n",
    "print('value 为: {0.value}'.format(my_value))  # \"0\" 是可选的"
   ],
   "metadata": {
    "collapsed": false,
    "ExecuteTime": {
     "end_time": "2024-03-19T08:08:54.368993400Z",
     "start_time": "2024-03-19T08:08:54.360997400Z"
    }
   }
  },
  {
   "cell_type": "code",
   "execution_count": 29,
   "outputs": [
    {
     "name": "stdout",
     "output_type": "stream",
     "text": [
      "3.14\n",
      "3.14\n"
     ]
    }
   ],
   "source": [
    "print(\"{:.2f}\".format(3.1415926))\n",
    "print(\"%.2f\"%3.1415926)"
   ],
   "metadata": {
    "collapsed": false,
    "ExecuteTime": {
     "end_time": "2024-03-19T08:14:04.834199400Z",
     "start_time": "2024-03-19T08:14:04.818580100Z"
    }
   }
  },
  {
   "cell_type": "code",
   "execution_count": 33,
   "outputs": [
    {
     "name": "stdout",
     "output_type": "stream",
     "text": [
      "-3.14\n",
      "-3.14\n"
     ]
    }
   ],
   "source": [
    "print(\"{:-.2f}\".format(-3.1415926))\n",
    "print(\"%-.2f\"%-3.1415926)"
   ],
   "metadata": {
    "collapsed": false,
    "ExecuteTime": {
     "end_time": "2024-03-19T08:15:09.384492900Z",
     "start_time": "2024-03-19T08:15:09.384492900Z"
    }
   }
  },
  {
   "cell_type": "code",
   "execution_count": 34,
   "outputs": [
    {
     "name": "stdout",
     "output_type": "stream",
     "text": [
      "-3.14\n",
      "-3.14\n"
     ]
    }
   ],
   "source": [
    "print(\"{:+.2f}\".format(-3.1415926))\n",
    "print(\"%+.2f\"%-3.1415926)"
   ],
   "metadata": {
    "collapsed": false,
    "ExecuteTime": {
     "end_time": "2024-03-19T08:15:19.434708200Z",
     "start_time": "2024-03-19T08:15:19.419114400Z"
    }
   }
  },
  {
   "cell_type": "code",
   "execution_count": 35,
   "outputs": [
    {
     "name": "stdout",
     "output_type": "stream",
     "text": [
      "3.14\n",
      "3.14\n"
     ]
    }
   ],
   "source": [
    "print(\"{:-.2f}\".format(3.1415926))\n",
    "print(\"%-.2f\"%3.1415926)"
   ],
   "metadata": {
    "collapsed": false,
    "ExecuteTime": {
     "end_time": "2024-03-19T08:15:31.287321700Z",
     "start_time": "2024-03-19T08:15:31.271680900Z"
    }
   }
  },
  {
   "cell_type": "code",
   "execution_count": 38,
   "outputs": [
    {
     "name": "stdout",
     "output_type": "stream",
     "text": [
      "3\n",
      "3\n"
     ]
    }
   ],
   "source": [
    "print(\"{:.0f}\".format(3.1415926))\n",
    "print(\"%.0f\"%3.1415926)"
   ],
   "metadata": {
    "collapsed": false,
    "ExecuteTime": {
     "end_time": "2024-03-19T08:17:14.415709300Z",
     "start_time": "2024-03-19T08:17:14.410307100Z"
    }
   }
  },
  {
   "cell_type": "code",
   "execution_count": 39,
   "outputs": [
    {
     "name": "stdout",
     "output_type": "stream",
     "text": [
      "1,000,000\n"
     ]
    }
   ],
   "source": [
    "print(\"{:,}\".format(1000000))"
   ],
   "metadata": {
    "collapsed": false,
    "ExecuteTime": {
     "end_time": "2024-03-19T08:17:55.942389600Z",
     "start_time": "2024-03-19T08:17:55.926766900Z"
    }
   }
  },
  {
   "cell_type": "code",
   "execution_count": 45,
   "outputs": [
    {
     "name": "stdout",
     "output_type": "stream",
     "text": [
      "12.3%\n"
     ]
    }
   ],
   "source": [
    "print(\"{:.1%}\".format(0.123456))"
   ],
   "metadata": {
    "collapsed": false,
    "ExecuteTime": {
     "end_time": "2024-03-19T08:19:58.271278100Z",
     "start_time": "2024-03-19T08:19:58.256128Z"
    }
   }
  },
  {
   "cell_type": "code",
   "execution_count": 46,
   "outputs": [
    {
     "name": "stdout",
     "output_type": "stream",
     "text": [
      "1.0e+06\n"
     ]
    }
   ],
   "source": [
    "print(\"{:.1e}\".format(1000000))"
   ],
   "metadata": {
    "collapsed": false,
    "ExecuteTime": {
     "end_time": "2024-03-19T08:20:22.545734600Z",
     "start_time": "2024-03-19T08:20:22.545734600Z"
    }
   }
  },
  {
   "cell_type": "code",
   "execution_count": 51,
   "outputs": [
    {
     "name": "stdout",
     "output_type": "stream",
     "text": [
      "11\n",
      "13\n",
      "1011\n",
      "b\n"
     ]
    }
   ],
   "source": [
    "print('{:d}'.format(11))\n",
    "print('{:o}'.format(11))\n",
    "print('{:b}'.format(11))\n",
    "print('{:x}'.format(11))"
   ],
   "metadata": {
    "collapsed": false,
    "ExecuteTime": {
     "end_time": "2024-03-19T08:22:47.441042300Z",
     "start_time": "2024-03-19T08:22:47.441042300Z"
    }
   }
  },
  {
   "cell_type": "code",
   "execution_count": 57,
   "outputs": [
    {
     "name": "stdout",
     "output_type": "stream",
     "text": [
      ":>d\n",
      ":^d\n",
      ":<d\n"
     ]
    }
   ],
   "source": [
    "print(':>d'.format('123456'))\n",
    "print(':^d'.format('123456'))\n",
    "print(':<d'.format('123456'))"
   ],
   "metadata": {
    "collapsed": false,
    "ExecuteTime": {
     "end_time": "2024-03-19T08:24:43.411068700Z",
     "start_time": "2024-03-19T08:24:43.377352200Z"
    }
   }
  },
  {
   "cell_type": "markdown",
   "source": [
    "f-string, Python3.6之后版本添加，字面量格式化字符串"
   ],
   "metadata": {
    "collapsed": false
   }
  },
  {
   "cell_type": "code",
   "execution_count": 58,
   "outputs": [
    {
     "name": "stdout",
     "output_type": "stream",
     "text": [
      "name =  FeFenFeng\n"
     ]
    }
   ],
   "source": [
    "name = 'FeFenFeng'\n",
    "print(f'name =  {name}')"
   ],
   "metadata": {
    "collapsed": false,
    "ExecuteTime": {
     "end_time": "2024-03-19T08:27:13.595418500Z",
     "start_time": "2024-03-19T08:27:13.579800600Z"
    }
   }
  },
  {
   "cell_type": "code",
   "execution_count": 59,
   "outputs": [
    {
     "name": "stdout",
     "output_type": "stream",
     "text": [
      "2\n"
     ]
    }
   ],
   "source": [
    "a = 1\n",
    "print(f'{a+1}')"
   ],
   "metadata": {
    "collapsed": false,
    "ExecuteTime": {
     "end_time": "2024-03-19T08:28:13.965998Z",
     "start_time": "2024-03-19T08:28:13.965998Z"
    }
   }
  },
  {
   "cell_type": "markdown",
   "source": [
    "字符串内建函数"
   ],
   "metadata": {
    "collapsed": false
   }
  },
  {
   "cell_type": "code",
   "execution_count": 64,
   "outputs": [
    {
     "name": "stdout",
     "output_type": "stream",
     "text": [
      "Fefenfeng\n"
     ]
    }
   ],
   "source": [
    "str1 = 'feFENFeng'\n",
    "print(str1.capitalize())"
   ],
   "metadata": {
    "collapsed": false,
    "ExecuteTime": {
     "end_time": "2024-03-19T08:30:02.782444500Z",
     "start_time": "2024-03-19T08:30:02.766842Z"
    }
   }
  },
  {
   "cell_type": "code",
   "execution_count": 67,
   "outputs": [
    {
     "name": "stdout",
     "output_type": "stream",
     "text": [
      "0 3\n"
     ]
    }
   ],
   "source": [
    "str2 = 'FeFenFeng'\n",
    "a = str2.count('f', 0, len(str2))\n",
    "b = str2.count('F', 0, len(str2))\n",
    "print(a, b)"
   ],
   "metadata": {
    "collapsed": false,
    "ExecuteTime": {
     "end_time": "2024-03-19T08:32:36.705668500Z",
     "start_time": "2024-03-19T08:32:36.705668500Z"
    }
   }
  },
  {
   "cell_type": "code",
   "execution_count": 68,
   "outputs": [
    {
     "data": {
      "text/plain": "3"
     },
     "execution_count": 68,
     "metadata": {},
     "output_type": "execute_result"
    }
   ],
   "source": [
    "str2.find('en', 0, len(str2))"
   ],
   "metadata": {
    "collapsed": false,
    "ExecuteTime": {
     "end_time": "2024-03-19T08:33:28.866873400Z",
     "start_time": "2024-03-19T08:33:28.841511600Z"
    }
   }
  },
  {
   "cell_type": "code",
   "execution_count": 69,
   "outputs": [
    {
     "data": {
      "text/plain": "True"
     },
     "execution_count": 69,
     "metadata": {},
     "output_type": "execute_result"
    }
   ],
   "source": [
    "str2.isalnum() # 都是字母和数字"
   ],
   "metadata": {
    "collapsed": false,
    "ExecuteTime": {
     "end_time": "2024-03-19T08:34:17.510603Z",
     "start_time": "2024-03-19T08:34:17.510603Z"
    }
   }
  },
  {
   "cell_type": "code",
   "execution_count": 70,
   "outputs": [
    {
     "data": {
      "text/plain": "True"
     },
     "execution_count": 70,
     "metadata": {},
     "output_type": "execute_result"
    }
   ],
   "source": [
    "str2.isalpha() # 都是字母"
   ],
   "metadata": {
    "collapsed": false,
    "ExecuteTime": {
     "end_time": "2024-03-19T08:34:27.994148600Z",
     "start_time": "2024-03-19T08:34:27.994148600Z"
    }
   }
  },
  {
   "cell_type": "code",
   "execution_count": 71,
   "outputs": [
    {
     "data": {
      "text/plain": "False"
     },
     "execution_count": 71,
     "metadata": {},
     "output_type": "execute_result"
    }
   ],
   "source": [
    "str2.isdigit()"
   ],
   "metadata": {
    "collapsed": false,
    "ExecuteTime": {
     "end_time": "2024-03-19T08:35:04.408848700Z",
     "start_time": "2024-03-19T08:35:04.408848700Z"
    }
   }
  },
  {
   "cell_type": "code",
   "execution_count": 72,
   "outputs": [
    {
     "data": {
      "text/plain": "'FEFENFENG'"
     },
     "execution_count": 72,
     "metadata": {},
     "output_type": "execute_result"
    }
   ],
   "source": [
    "str2.upper()"
   ],
   "metadata": {
    "collapsed": false,
    "ExecuteTime": {
     "end_time": "2024-03-19T08:35:21.381733Z",
     "start_time": "2024-03-19T08:35:21.366103600Z"
    }
   }
  },
  {
   "cell_type": "code",
   "execution_count": 73,
   "outputs": [
    {
     "data": {
      "text/plain": "'fefenfeng'"
     },
     "execution_count": 73,
     "metadata": {},
     "output_type": "execute_result"
    }
   ],
   "source": [
    "str2.lower()"
   ],
   "metadata": {
    "collapsed": false,
    "ExecuteTime": {
     "end_time": "2024-03-19T08:35:28.700528300Z",
     "start_time": "2024-03-19T08:35:28.684904700Z"
    }
   }
  },
  {
   "cell_type": "code",
   "execution_count": 81,
   "outputs": [
    {
     "data": {
      "text/plain": "['123', ' 456', ' 789']"
     },
     "execution_count": 81,
     "metadata": {},
     "output_type": "execute_result"
    }
   ],
   "source": [
    "str3 = '123, 456, 789'\n",
    "str3.split(',')"
   ],
   "metadata": {
    "collapsed": false,
    "ExecuteTime": {
     "end_time": "2024-03-19T08:38:51.220435200Z",
     "start_time": "2024-03-19T08:38:51.204683300Z"
    }
   }
  },
  {
   "cell_type": "code",
   "execution_count": 82,
   "outputs": [
    {
     "data": {
      "text/plain": "'fEfENfENG'"
     },
     "execution_count": 82,
     "metadata": {},
     "output_type": "execute_result"
    }
   ],
   "source": [
    "str2.swapcase()"
   ],
   "metadata": {
    "collapsed": false,
    "ExecuteTime": {
     "end_time": "2024-03-19T08:39:16.806624600Z",
     "start_time": "2024-03-19T08:39:16.790977100Z"
    }
   }
  }
 ],
 "metadata": {
  "kernelspec": {
   "display_name": "Python 3",
   "language": "python",
   "name": "python3"
  },
  "language_info": {
   "codemirror_mode": {
    "name": "ipython",
    "version": 2
   },
   "file_extension": ".py",
   "mimetype": "text/x-python",
   "name": "python",
   "nbconvert_exporter": "python",
   "pygments_lexer": "ipython2",
   "version": "2.7.6"
  }
 },
 "nbformat": 4,
 "nbformat_minor": 0
}
