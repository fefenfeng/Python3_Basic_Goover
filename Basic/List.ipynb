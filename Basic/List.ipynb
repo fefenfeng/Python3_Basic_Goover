{
 "cells": [
  {
   "cell_type": "markdown",
   "source": [
    "# List 列表\n",
    "序列中的一种内置结构，最常见的是列表和元组"
   ],
   "metadata": {
    "collapsed": false
   }
  },
  {
   "cell_type": "markdown",
   "source": [
    "更新列表，添加列表"
   ],
   "metadata": {
    "collapsed": false
   }
  },
  {
   "cell_type": "code",
   "execution_count": 1,
   "metadata": {
    "collapsed": true,
    "ExecuteTime": {
     "end_time": "2024-03-19T09:50:43.675991800Z",
     "start_time": "2024-03-19T09:50:43.659884200Z"
    }
   },
   "outputs": [
    {
     "name": "stdout",
     "output_type": "stream",
     "text": [
      "第三个元素为:1997\n"
     ]
    }
   ],
   "source": [
    "list1 = ['Feng', 'Rong', 1997, 2000, 3.1415]\n",
    "print(\"第三个元素为:{}\".format(list1[2]))"
   ]
  },
  {
   "cell_type": "code",
   "execution_count": 2,
   "outputs": [
    {
     "name": "stdout",
     "output_type": "stream",
     "text": [
      "['Feng', 'Rong', 2024, 2000, 3.1415]\n"
     ]
    }
   ],
   "source": [
    "list1[2] = 2024\n",
    "print(list1)"
   ],
   "metadata": {
    "collapsed": false,
    "ExecuteTime": {
     "end_time": "2024-03-19T09:51:18.151858500Z",
     "start_time": "2024-03-19T09:51:18.139855800Z"
    }
   }
  },
  {
   "cell_type": "code",
   "execution_count": 3,
   "outputs": [
    {
     "name": "stdout",
     "output_type": "stream",
     "text": [
      "['Feng', 'Rong', 2024, 2000, 3.1415, 'ok']\n"
     ]
    }
   ],
   "source": [
    "list1.append('ok')\n",
    "print(list1)"
   ],
   "metadata": {
    "collapsed": false,
    "ExecuteTime": {
     "end_time": "2024-03-19T09:54:28.043525800Z",
     "start_time": "2024-03-19T09:54:28.031300Z"
    }
   }
  },
  {
   "cell_type": "markdown",
   "source": [
    "可以使用列表的append和pop实现队列这种先进先出（FIFO）的数据结构"
   ],
   "metadata": {
    "collapsed": false
   }
  },
  {
   "cell_type": "code",
   "execution_count": 9,
   "outputs": [
    {
     "name": "stdout",
     "output_type": "stream",
     "text": [
      "a\n",
      "b\n",
      "c\n",
      "[]\n"
     ]
    }
   ],
   "source": [
    "queue1 = []\n",
    "\n",
    "queue1.append('a')\n",
    "queue1.append('b')\n",
    "queue1.append('c')\n",
    "\n",
    "for i in range(0, 3):\n",
    "    print(queue1.pop(0))\n",
    "print(queue1)"
   ],
   "metadata": {
    "collapsed": false,
    "ExecuteTime": {
     "end_time": "2024-03-19T09:58:36.604207300Z",
     "start_time": "2024-03-19T09:58:36.591557Z"
    }
   }
  },
  {
   "cell_type": "markdown",
   "source": [
    "删除列表元素"
   ],
   "metadata": {
    "collapsed": false
   }
  },
  {
   "cell_type": "code",
   "execution_count": 10,
   "outputs": [
    {
     "name": "stdout",
     "output_type": "stream",
     "text": [
      "['Feng', 'Rong', 2024, 2000, 3.1415, 'ok']\n",
      "['Rong', 2024, 2000, 3.1415, 'ok']\n"
     ]
    }
   ],
   "source": [
    "list2 = list1\n",
    "print(list2)\n",
    "del list2[0]\n",
    "print(list2)"
   ],
   "metadata": {
    "collapsed": false,
    "ExecuteTime": {
     "end_time": "2024-03-19T09:59:34.933054600Z",
     "start_time": "2024-03-19T09:59:34.933054600Z"
    }
   }
  },
  {
   "cell_type": "code",
   "execution_count": 11,
   "outputs": [
    {
     "name": "stdout",
     "output_type": "stream",
     "text": [
      "5 ['Rong', 2024, 2000, 3.1415, 'ok']\n",
      "['Rong', 2024, 2000, 3.1415, 'ok', 'Rong', 2024, 2000, 3.1415, 'ok']\n",
      "['Rong', 2024, 2000, 3.1415, 'ok', 'Rong', 2024, 2000, 3.1415, 'ok']\n",
      "Rong 2024 2000 3.1415 ok "
     ]
    }
   ],
   "source": [
    "print(len(list1), list1)\n",
    "print(list1 + list2)\n",
    "print(list2 * 2)\n",
    "\n",
    "if 'Rong' in list2:\n",
    "    for i in list1:\n",
    "        print(i, end=\" \")"
   ],
   "metadata": {
    "collapsed": false,
    "ExecuteTime": {
     "end_time": "2024-03-19T10:01:46.898876200Z",
     "start_time": "2024-03-19T10:01:46.883279900Z"
    }
   }
  },
  {
   "cell_type": "markdown",
   "source": [
    "嵌套列表"
   ],
   "metadata": {
    "collapsed": false
   }
  },
  {
   "cell_type": "code",
   "execution_count": 13,
   "outputs": [
    {
     "name": "stdout",
     "output_type": "stream",
     "text": [
      "a\n",
      "f\n"
     ]
    }
   ],
   "source": [
    "lista = ['a', 'b', 'c']\n",
    "listb = ['d', 'e', 'f']\n",
    "\n",
    "listc = [lista, listb]\n",
    "\n",
    "print(listc[0][0])\n",
    "print(listc[1][-1])"
   ],
   "metadata": {
    "collapsed": false,
    "ExecuteTime": {
     "end_time": "2024-03-19T10:03:57.730827800Z",
     "start_time": "2024-03-19T10:03:57.715076300Z"
    }
   }
  },
  {
   "cell_type": "markdown",
   "source": [
    "列表比较"
   ],
   "metadata": {
    "collapsed": false
   }
  },
  {
   "cell_type": "code",
   "execution_count": 14,
   "outputs": [
    {
     "name": "stdout",
     "output_type": "stream",
     "text": [
      "False\n",
      "True\n",
      "True\n"
     ]
    }
   ],
   "source": [
    "import operator\n",
    "a = [1, 2]\n",
    "b = [2, 3]\n",
    "c = [2, 3]\n",
    "\n",
    "print(operator.eq(a, b))\n",
    "print(operator.eq(b, c))\n",
    "\n",
    "print(operator.eq(list1, list2))"
   ],
   "metadata": {
    "collapsed": false,
    "ExecuteTime": {
     "end_time": "2024-03-19T10:05:29.065434Z",
     "start_time": "2024-03-19T10:05:29.065434Z"
    }
   }
  },
  {
   "cell_type": "markdown",
   "source": [
    "列表函数及方法"
   ],
   "metadata": {
    "collapsed": false
   }
  },
  {
   "cell_type": "code",
   "execution_count": 18,
   "outputs": [
    {
     "name": "stdout",
     "output_type": "stream",
     "text": [
      "3\n",
      "3\n",
      "1\n",
      "[1, 2]\n"
     ]
    }
   ],
   "source": [
    "listx = [1, 2, 3]\n",
    "print(len(listx))\n",
    "print(max(listx))\n",
    "print(min(listx))\n",
    "a = (1, 2)\n",
    "listy = list(a)\n",
    "print(listy)\n"
   ],
   "metadata": {
    "collapsed": false,
    "ExecuteTime": {
     "end_time": "2024-03-19T10:08:29.962367Z",
     "start_time": "2024-03-19T10:08:29.946710200Z"
    }
   }
  },
  {
   "cell_type": "code",
   "execution_count": 19,
   "outputs": [
    {
     "name": "stdout",
     "output_type": "stream",
     "text": [
      "2 2 1\n"
     ]
    }
   ],
   "source": [
    "list1 = [1, 1, 2, 2, 3]\n",
    "\n",
    "print(list1.count(1), list1.count(2), list1.count(3))"
   ],
   "metadata": {
    "collapsed": false,
    "ExecuteTime": {
     "end_time": "2024-03-19T10:09:39.234584Z",
     "start_time": "2024-03-19T10:09:39.234584Z"
    }
   }
  },
  {
   "cell_type": "code",
   "execution_count": 26,
   "outputs": [
    {
     "data": {
      "text/plain": "4"
     },
     "execution_count": 26,
     "metadata": {},
     "output_type": "execute_result"
    }
   ],
   "source": [
    "list1 = [1, 1, 2, 2, 3]\n",
    "list1.index(3)"
   ],
   "metadata": {
    "collapsed": false,
    "ExecuteTime": {
     "end_time": "2024-03-19T10:12:55.039524200Z",
     "start_time": "2024-03-19T10:12:54.991722200Z"
    }
   }
  },
  {
   "cell_type": "code",
   "execution_count": 27,
   "outputs": [
    {
     "name": "stdout",
     "output_type": "stream",
     "text": [
      "[1, 1, 2, 2, 3, 1, 2, 3]\n"
     ]
    }
   ],
   "source": [
    "list1 = [1, 1, 2, 2, 3]\n",
    "list1.extend([1, 2, 3])\n",
    "print(list1)"
   ],
   "metadata": {
    "collapsed": false,
    "ExecuteTime": {
     "end_time": "2024-03-19T10:13:19.122671500Z",
     "start_time": "2024-03-19T10:13:19.117557100Z"
    }
   }
  },
  {
   "cell_type": "code",
   "execution_count": 28,
   "outputs": [
    {
     "name": "stdout",
     "output_type": "stream",
     "text": [
      "[10, 1, 1, 2, 2, 3, 1, 2, 3]\n"
     ]
    }
   ],
   "source": [
    "list1.insert(0, 10)\n",
    "print(list1)"
   ],
   "metadata": {
    "collapsed": false,
    "ExecuteTime": {
     "end_time": "2024-03-19T10:13:52.284835900Z",
     "start_time": "2024-03-19T10:13:52.269220800Z"
    }
   }
  },
  {
   "cell_type": "code",
   "execution_count": 29,
   "outputs": [
    {
     "data": {
      "text/plain": "3"
     },
     "execution_count": 29,
     "metadata": {},
     "output_type": "execute_result"
    }
   ],
   "source": [
    "list1.pop(-1)"
   ],
   "metadata": {
    "collapsed": false,
    "ExecuteTime": {
     "end_time": "2024-03-19T10:14:06.141082800Z",
     "start_time": "2024-03-19T10:14:06.141082800Z"
    }
   }
  },
  {
   "cell_type": "code",
   "execution_count": 30,
   "outputs": [
    {
     "name": "stdout",
     "output_type": "stream",
     "text": [
      "[10, 1, 1, 2, 2, 3, 1, 2]\n"
     ]
    }
   ],
   "source": [
    "print(list1)"
   ],
   "metadata": {
    "collapsed": false,
    "ExecuteTime": {
     "end_time": "2024-03-19T10:14:18.304096500Z",
     "start_time": "2024-03-19T10:14:18.288450Z"
    }
   }
  },
  {
   "cell_type": "code",
   "execution_count": 31,
   "outputs": [
    {
     "name": "stdout",
     "output_type": "stream",
     "text": [
      "[10, 1, 2, 2, 3, 1, 2]\n"
     ]
    }
   ],
   "source": [
    "list1.remove(1)\n",
    "print(list1)"
   ],
   "metadata": {
    "collapsed": false,
    "ExecuteTime": {
     "end_time": "2024-03-19T10:14:35.949899500Z",
     "start_time": "2024-03-19T10:14:35.934285900Z"
    }
   }
  },
  {
   "cell_type": "code",
   "execution_count": 32,
   "outputs": [
    {
     "name": "stdout",
     "output_type": "stream",
     "text": [
      "[2, 1, 3, 2, 2, 1, 10]\n"
     ]
    }
   ],
   "source": [
    "list1.reverse()\n",
    "print(list1)"
   ],
   "metadata": {
    "collapsed": false,
    "ExecuteTime": {
     "end_time": "2024-03-19T10:15:00.511949900Z",
     "start_time": "2024-03-19T10:15:00.483611300Z"
    }
   }
  },
  {
   "cell_type": "code",
   "execution_count": 33,
   "outputs": [],
   "source": [
    "list1.sort(reverse=True)"
   ],
   "metadata": {
    "collapsed": false,
    "ExecuteTime": {
     "end_time": "2024-03-19T10:15:31.687172200Z",
     "start_time": "2024-03-19T10:15:31.671484100Z"
    }
   }
  },
  {
   "cell_type": "code",
   "execution_count": 34,
   "outputs": [
    {
     "name": "stdout",
     "output_type": "stream",
     "text": [
      "[10, 3, 2, 2, 2, 1, 1]\n"
     ]
    }
   ],
   "source": [
    "print(list1)"
   ],
   "metadata": {
    "collapsed": false,
    "ExecuteTime": {
     "end_time": "2024-03-19T10:15:36.003356300Z",
     "start_time": "2024-03-19T10:15:35.987734900Z"
    }
   }
  },
  {
   "cell_type": "code",
   "execution_count": 37,
   "outputs": [
    {
     "name": "stdout",
     "output_type": "stream",
     "text": [
      "[1, 1, 2, 2, 2, 3, 10]\n",
      "[1, 1, 2, 2, 2, 3, 10]\n",
      "[1, 1, 2, 2, 2, 3, 10]\n"
     ]
    }
   ],
   "source": [
    "list1.reverse()\n",
    "print(list1)\n",
    "list1.sort()\n",
    "print(list1)\n",
    "list2 = list1.copy()\n",
    "print(list2)"
   ],
   "metadata": {
    "collapsed": false,
    "ExecuteTime": {
     "end_time": "2024-03-19T10:17:08.088439300Z",
     "start_time": "2024-03-19T10:17:08.072684Z"
    }
   }
  }
 ],
 "metadata": {
  "kernelspec": {
   "display_name": "Python 3",
   "language": "python",
   "name": "python3"
  },
  "language_info": {
   "codemirror_mode": {
    "name": "ipython",
    "version": 2
   },
   "file_extension": ".py",
   "mimetype": "text/x-python",
   "name": "python",
   "nbconvert_exporter": "python",
   "pygments_lexer": "ipython2",
   "version": "2.7.6"
  }
 },
 "nbformat": 4,
 "nbformat_minor": 0
}
