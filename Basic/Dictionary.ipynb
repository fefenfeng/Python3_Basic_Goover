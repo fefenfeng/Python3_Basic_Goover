{
 "cells": [
  {
   "cell_type": "markdown",
   "source": [
    "# Dictionary 字典\n",
    "字典： 可变容器模型，可存储任意类型对象\n",
    "键是唯一的，但值不必，键必须是不可变的（string，number）"
   ],
   "metadata": {
    "collapsed": false
   }
  },
  {
   "cell_type": "code",
   "execution_count": 1,
   "metadata": {
    "collapsed": true,
    "ExecuteTime": {
     "end_time": "2024-03-19T10:32:51.504454200Z",
     "start_time": "2024-03-19T10:32:51.498845200Z"
    }
   },
   "outputs": [
    {
     "name": "stdout",
     "output_type": "stream",
     "text": [
      "{'name': 'FeFenFeng', 'height': 1.83, 'age': 23} 3 <class 'dict'>\n"
     ]
    }
   ],
   "source": [
    "emptyDict = {} # 使用内建函数可以\n",
    "# emptyDict = dict()\n",
    "emptyDict = {'name' : 'FeFenFeng', 'height': 1.83, 'age' : 23}\n",
    "print(emptyDict, len(emptyDict), type(emptyDict))\n"
   ]
  },
  {
   "cell_type": "code",
   "execution_count": 2,
   "outputs": [
    {
     "data": {
      "text/plain": "\"{'name': 'FeFenFeng', 'height': 1.83, 'age': 23}\""
     },
     "execution_count": 2,
     "metadata": {},
     "output_type": "execute_result"
    }
   ],
   "source": [
    "str(emptyDict)"
   ],
   "metadata": {
    "collapsed": false,
    "ExecuteTime": {
     "end_time": "2024-03-19T10:34:48.913792900Z",
     "start_time": "2024-03-19T10:34:48.898134600Z"
    }
   }
  },
  {
   "cell_type": "code",
   "execution_count": 3,
   "outputs": [],
   "source": [
    "keys = ['name', 'age', 'height']\n",
    "dict1 = dict.fromkeys(keys)"
   ],
   "metadata": {
    "collapsed": false,
    "ExecuteTime": {
     "end_time": "2024-03-19T10:36:16.846156900Z",
     "start_time": "2024-03-19T10:36:16.830536Z"
    }
   }
  },
  {
   "cell_type": "code",
   "execution_count": 4,
   "outputs": [
    {
     "name": "stdout",
     "output_type": "stream",
     "text": [
      "{'name': None, 'age': None, 'height': None}\n"
     ]
    }
   ],
   "source": [
    "print(dict1)"
   ],
   "metadata": {
    "collapsed": false,
    "ExecuteTime": {
     "end_time": "2024-03-19T10:36:30.382897200Z",
     "start_time": "2024-03-19T10:36:30.367299900Z"
    }
   }
  },
  {
   "cell_type": "code",
   "execution_count": 5,
   "outputs": [
    {
     "data": {
      "text/plain": "'FeFenFeng'"
     },
     "execution_count": 5,
     "metadata": {},
     "output_type": "execute_result"
    }
   ],
   "source": [
    "dict1['name'] = 'FeFenFeng'\n",
    "dict1.get('name')"
   ],
   "metadata": {
    "collapsed": false,
    "ExecuteTime": {
     "end_time": "2024-03-19T10:37:19.520074100Z",
     "start_time": "2024-03-19T10:37:19.488773900Z"
    }
   }
  },
  {
   "cell_type": "code",
   "execution_count": 10,
   "outputs": [
    {
     "name": "stdout",
     "output_type": "stream",
     "text": [
      "dict_items([('name', 'FeFenFeng'), ('age', None), ('height', None)])\n"
     ]
    }
   ],
   "source": [
    "if 'name' in dict1:\n",
    "    b = dict1.items()\n",
    "    print(b)"
   ],
   "metadata": {
    "collapsed": false,
    "ExecuteTime": {
     "end_time": "2024-03-19T10:38:54.347048100Z",
     "start_time": "2024-03-19T10:38:54.314847300Z"
    }
   }
  },
  {
   "cell_type": "code",
   "execution_count": 12,
   "outputs": [
    {
     "name": "stdout",
     "output_type": "stream",
     "text": [
      "dict_keys(['name', 'age', 'height'])\n",
      "dict_values(['FeFenFeng', None, None])\n",
      "['name', 'age', 'height']\n"
     ]
    }
   ],
   "source": [
    "print(dict1.keys())\n",
    "print(dict1.values())\n",
    "print(list(dict1.keys()))"
   ],
   "metadata": {
    "collapsed": false,
    "ExecuteTime": {
     "end_time": "2024-03-19T10:43:49.794639300Z",
     "start_time": "2024-03-19T10:43:49.779020Z"
    }
   }
  }
 ],
 "metadata": {
  "kernelspec": {
   "display_name": "Python 3",
   "language": "python",
   "name": "python3"
  },
  "language_info": {
   "codemirror_mode": {
    "name": "ipython",
    "version": 2
   },
   "file_extension": ".py",
   "mimetype": "text/x-python",
   "name": "python",
   "nbconvert_exporter": "python",
   "pygments_lexer": "ipython2",
   "version": "2.7.6"
  }
 },
 "nbformat": 4,
 "nbformat_minor": 0
}
