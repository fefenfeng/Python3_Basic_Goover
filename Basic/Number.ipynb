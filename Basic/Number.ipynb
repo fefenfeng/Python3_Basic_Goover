{
 "cells": [
  {
   "cell_type": "markdown",
   "source": [
    "# Number（数字）\n",
    "Python3数字数据类型是不允许改变的，这就意味着如果改变数字数据类型的值，将重新分配内存空间。\n",
    "在变量赋值的时候Number对象被创建，可以用del语句删除一些数字对象的引用\n",
    "\n",
    "Python 支持三种不同的数值类型：\n",
    "- **整数（int）** 通常被称为是整型或整数，是正或负整数，不带小数点。Python3 整型是没有限制大小的，可以当作 Long 类型使用，所以 Python3 没有 Python2 的 Long 类型。布尔(bool)是整型的子类型。\n",
    "- **浮点型（float）** 浮点型由整数部分与小数部分组成，浮点型也可以使用科学计数法表示（2.5e2 = 2.5 x 102 = 250）\n",
    "- **复数（complex）** 复数由实数部分和虚数部分构成，可以用a + bj,或者complex(a,b)表示， 复数的实部a和虚部b都是浮点型。"
   ],
   "metadata": {
    "collapsed": false
   }
  },
  {
   "cell_type": "code",
   "execution_count": 2,
   "metadata": {
    "collapsed": true,
    "ExecuteTime": {
     "end_time": "2024-03-18T14:23:23.992544200Z",
     "start_time": "2024-03-18T14:23:23.992544200Z"
    }
   },
   "outputs": [
    {
     "name": "stdout",
     "output_type": "stream",
     "text": [
      "2575\n",
      "31\n",
      "7\n"
     ]
    }
   ],
   "source": [
    "import math\n",
    "\n",
    "# 十六进制，八进制，二进制代表整数\n",
    "a = 0xA0F\n",
    "print(a)\n",
    "a = 0o37\n",
    "print(a)\n",
    "a = 0b111\n",
    "print(a)"
   ]
  },
  {
   "cell_type": "markdown",
   "source": [
    "部分数学函数"
   ],
   "metadata": {
    "collapsed": false
   }
  },
  {
   "cell_type": "code",
   "execution_count": 3,
   "outputs": [
    {
     "name": "stdout",
     "output_type": "stream",
     "text": [
      "10\n"
     ]
    }
   ],
   "source": [
    "a = abs(-10)\n",
    "print(a)"
   ],
   "metadata": {
    "collapsed": false,
    "ExecuteTime": {
     "end_time": "2024-03-18T14:25:56.226750200Z",
     "start_time": "2024-03-18T14:25:56.211233700Z"
    }
   }
  },
  {
   "cell_type": "code",
   "execution_count": 6,
   "outputs": [
    {
     "name": "stdout",
     "output_type": "stream",
     "text": [
      "5\n"
     ]
    }
   ],
   "source": [
    "import math\n",
    "a = math.ceil(4.7)\n",
    "print(a)"
   ],
   "metadata": {
    "collapsed": false,
    "ExecuteTime": {
     "end_time": "2024-03-18T14:26:50.321445400Z",
     "start_time": "2024-03-18T14:26:50.274891400Z"
    }
   }
  },
  {
   "cell_type": "code",
   "execution_count": 7,
   "outputs": [
    {
     "name": "stdout",
     "output_type": "stream",
     "text": [
      "2.718281828459045\n"
     ]
    }
   ],
   "source": [
    "print(math.exp(1))"
   ],
   "metadata": {
    "collapsed": false,
    "ExecuteTime": {
     "end_time": "2024-03-18T14:27:45.857536900Z",
     "start_time": "2024-03-18T14:27:45.810548Z"
    }
   }
  },
  {
   "cell_type": "code",
   "execution_count": 8,
   "outputs": [
    {
     "name": "stdout",
     "output_type": "stream",
     "text": [
      "10.0\n"
     ]
    }
   ],
   "source": [
    "print(math.fabs(-10)) # 以浮点数返回数字绝对值"
   ],
   "metadata": {
    "collapsed": false,
    "ExecuteTime": {
     "end_time": "2024-03-18T14:28:12.974161300Z",
     "start_time": "2024-03-18T14:28:12.957226400Z"
    }
   }
  },
  {
   "cell_type": "code",
   "execution_count": 9,
   "outputs": [
    {
     "name": "stdout",
     "output_type": "stream",
     "text": [
      "4\n"
     ]
    }
   ],
   "source": [
    "print(math.floor(4.7))"
   ],
   "metadata": {
    "collapsed": false,
    "ExecuteTime": {
     "end_time": "2024-03-18T14:29:29.318497200Z",
     "start_time": "2024-03-18T14:29:29.318497200Z"
    }
   }
  },
  {
   "cell_type": "code",
   "execution_count": 10,
   "outputs": [
    {
     "name": "stdout",
     "output_type": "stream",
     "text": [
      "3.0\n"
     ]
    }
   ],
   "source": [
    "print(math.log(8, 2))"
   ],
   "metadata": {
    "collapsed": false,
    "ExecuteTime": {
     "end_time": "2024-03-18T14:30:11.247829800Z",
     "start_time": "2024-03-18T14:30:11.233294100Z"
    }
   }
  },
  {
   "cell_type": "code",
   "execution_count": 11,
   "outputs": [
    {
     "name": "stdout",
     "output_type": "stream",
     "text": [
      "3.0\n"
     ]
    }
   ],
   "source": [
    "print(math.log2(8))"
   ],
   "metadata": {
    "collapsed": false,
    "ExecuteTime": {
     "end_time": "2024-03-18T14:31:56.849382900Z",
     "start_time": "2024-03-18T14:31:56.833787700Z"
    }
   }
  },
  {
   "cell_type": "code",
   "execution_count": 12,
   "outputs": [
    {
     "name": "stdout",
     "output_type": "stream",
     "text": [
      "3.0\n"
     ]
    }
   ],
   "source": [
    "print(math.log10(1000))"
   ],
   "metadata": {
    "collapsed": false,
    "ExecuteTime": {
     "end_time": "2024-03-18T14:32:08.861667900Z",
     "start_time": "2024-03-18T14:32:08.845943900Z"
    }
   }
  },
  {
   "cell_type": "code",
   "execution_count": 13,
   "outputs": [
    {
     "name": "stdout",
     "output_type": "stream",
     "text": [
      "3\n",
      "[3, 4, 5]\n"
     ]
    }
   ],
   "source": [
    "print(max(1, 2, 3))\n",
    "print(max([1, 2, 3], [2, 3, 4], [3, 4, 5]))"
   ],
   "metadata": {
    "collapsed": false,
    "ExecuteTime": {
     "end_time": "2024-03-18T14:33:00.597967700Z",
     "start_time": "2024-03-18T14:33:00.597967700Z"
    }
   }
  },
  {
   "cell_type": "code",
   "execution_count": 14,
   "outputs": [
    {
     "name": "stdout",
     "output_type": "stream",
     "text": [
      "1\n",
      "[1, 2, 3]\n"
     ]
    }
   ],
   "source": [
    "print(min(1, 2, 3))\n",
    "print(min([1, 2, 3], [2, 3, 4], [3, 4, 5]))"
   ],
   "metadata": {
    "collapsed": false,
    "ExecuteTime": {
     "end_time": "2024-03-18T14:33:21.937014600Z",
     "start_time": "2024-03-18T14:33:21.890148Z"
    }
   }
  },
  {
   "cell_type": "code",
   "execution_count": 15,
   "outputs": [
    {
     "name": "stdout",
     "output_type": "stream",
     "text": [
      "(0.7000000000000002, 3.0)\n"
     ]
    }
   ],
   "source": [
    "print(math.modf(3.7)) # 返回float的整数与小数部分"
   ],
   "metadata": {
    "collapsed": false,
    "ExecuteTime": {
     "end_time": "2024-03-18T14:33:55.789257100Z",
     "start_time": "2024-03-18T14:33:55.741692500Z"
    }
   }
  },
  {
   "cell_type": "code",
   "execution_count": 16,
   "outputs": [
    {
     "name": "stdout",
     "output_type": "stream",
     "text": [
      "8\n",
      "8\n"
     ]
    }
   ],
   "source": [
    "print(2 ** 3)\n",
    "print(pow(2, 3))"
   ],
   "metadata": {
    "collapsed": false,
    "ExecuteTime": {
     "end_time": "2024-03-18T14:35:54.314437100Z",
     "start_time": "2024-03-18T14:35:54.298737500Z"
    }
   }
  },
  {
   "cell_type": "code",
   "execution_count": 17,
   "outputs": [
    {
     "name": "stdout",
     "output_type": "stream",
     "text": [
      "4\n"
     ]
    }
   ],
   "source": [
    "print(round(3.7))"
   ],
   "metadata": {
    "collapsed": false,
    "ExecuteTime": {
     "end_time": "2024-03-18T14:36:33.088904900Z",
     "start_time": "2024-03-18T14:36:33.073283Z"
    }
   }
  },
  {
   "cell_type": "code",
   "execution_count": 18,
   "outputs": [
    {
     "name": "stdout",
     "output_type": "stream",
     "text": [
      "4\n",
      "3.57\n"
     ]
    }
   ],
   "source": [
    "print(round(3.5678))\n",
    "print(round(3.5678, 2))"
   ],
   "metadata": {
    "collapsed": false,
    "ExecuteTime": {
     "end_time": "2024-03-18T14:36:56.872394600Z",
     "start_time": "2024-03-18T14:36:56.856804100Z"
    }
   }
  },
  {
   "cell_type": "code",
   "execution_count": 19,
   "outputs": [
    {
     "name": "stdout",
     "output_type": "stream",
     "text": [
      "4.0\n"
     ]
    }
   ],
   "source": [
    "print(math.sqrt(16))"
   ],
   "metadata": {
    "collapsed": false,
    "ExecuteTime": {
     "end_time": "2024-03-18T14:37:24.151620Z",
     "start_time": "2024-03-18T14:37:24.151620Z"
    }
   }
  },
  {
   "cell_type": "markdown",
   "source": [
    "随机数函数"
   ],
   "metadata": {
    "collapsed": false
   }
  },
  {
   "cell_type": "code",
   "execution_count": 21,
   "outputs": [
    {
     "name": "stdout",
     "output_type": "stream",
     "text": [
      "0 99\n",
      "84\n"
     ]
    }
   ],
   "source": [
    "# 从序列的元素中随机挑选一个元素\n",
    "import random\n",
    "print(range(100)[0], range(100)[-1])\n",
    "print(random.choice(range(100)))"
   ],
   "metadata": {
    "collapsed": false,
    "ExecuteTime": {
     "end_time": "2024-03-18T14:38:58.611893Z",
     "start_time": "2024-03-18T14:38:58.596230700Z"
    }
   }
  },
  {
   "cell_type": "code",
   "execution_count": 28,
   "outputs": [
    {
     "name": "stdout",
     "output_type": "stream",
     "text": [
      "4\n"
     ]
    }
   ],
   "source": [
    "# 从指定范围内，按指定基数递增的集合中获取一个随机数，基数默认值为 1\n",
    "print(random.randrange(4, 16, 2))"
   ],
   "metadata": {
    "collapsed": false,
    "ExecuteTime": {
     "end_time": "2024-03-18T14:40:44.282841500Z",
     "start_time": "2024-03-18T14:40:44.267072700Z"
    }
   }
  },
  {
   "cell_type": "code",
   "execution_count": 29,
   "outputs": [
    {
     "name": "stdout",
     "output_type": "stream",
     "text": [
      "0.8177910297857138\n"
     ]
    }
   ],
   "source": [
    "# 随机生成下一个实数，它在[0,1)范围内。\n",
    "print(random.random())"
   ],
   "metadata": {
    "collapsed": false,
    "ExecuteTime": {
     "end_time": "2024-03-18T14:41:08.630258100Z",
     "start_time": "2024-03-18T14:41:08.620749700Z"
    }
   }
  },
  {
   "cell_type": "code",
   "execution_count": 33,
   "outputs": [
    {
     "name": "stdout",
     "output_type": "stream",
     "text": [
      "[4, 5, 6, 2, 3, 1]\n"
     ]
    }
   ],
   "source": [
    "# random.seed()\n",
    "a = [1, 2, 3, 4, 5, 6]\n",
    "random.shuffle(a)\n",
    "print(a)"
   ],
   "metadata": {
    "collapsed": false,
    "ExecuteTime": {
     "end_time": "2024-03-18T14:43:14.625563700Z",
     "start_time": "2024-03-18T14:43:14.609800100Z"
    }
   }
  },
  {
   "cell_type": "code",
   "execution_count": 34,
   "outputs": [
    {
     "name": "stdout",
     "output_type": "stream",
     "text": [
      "5.361210838951417\n"
     ]
    }
   ],
   "source": [
    "# 随机生成下一个实数，它在[x,y]范围内。\n",
    "print(random.uniform(4.5, 7.9))"
   ],
   "metadata": {
    "collapsed": false,
    "ExecuteTime": {
     "end_time": "2024-03-18T14:43:51.102106100Z",
     "start_time": "2024-03-18T14:43:51.086453400Z"
    }
   }
  },
  {
   "cell_type": "markdown",
   "source": [
    "三角函数"
   ],
   "metadata": {
    "collapsed": false
   }
  },
  {
   "cell_type": "code",
   "execution_count": 42,
   "outputs": [
    {
     "name": "stdout",
     "output_type": "stream",
     "text": [
      "60.00000000000001\n",
      "0.5\n"
     ]
    }
   ],
   "source": [
    "print(math.degrees(math.acos(0.5)))\n",
    "print(math.radians(90) / math.pi)"
   ],
   "metadata": {
    "collapsed": false,
    "ExecuteTime": {
     "end_time": "2024-03-18T14:47:22.716503600Z",
     "start_time": "2024-03-18T14:47:22.701454700Z"
    }
   }
  },
  {
   "cell_type": "code",
   "execution_count": 43,
   "outputs": [
    {
     "name": "stdout",
     "output_type": "stream",
     "text": [
      "2.718281828459045\n"
     ]
    }
   ],
   "source": [
    "print(math.e)"
   ],
   "metadata": {
    "collapsed": false,
    "ExecuteTime": {
     "end_time": "2024-03-18T14:47:31.735835500Z",
     "start_time": "2024-03-18T14:47:31.702285800Z"
    }
   }
  }
 ],
 "metadata": {
  "kernelspec": {
   "display_name": "Python 3",
   "language": "python",
   "name": "python3"
  },
  "language_info": {
   "codemirror_mode": {
    "name": "ipython",
    "version": 2
   },
   "file_extension": ".py",
   "mimetype": "text/x-python",
   "name": "python",
   "nbconvert_exporter": "python",
   "pygments_lexer": "ipython2",
   "version": "2.7.6"
  }
 },
 "nbformat": 4,
 "nbformat_minor": 0
}
