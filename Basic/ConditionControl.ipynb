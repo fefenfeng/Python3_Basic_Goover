{
 "cells": [
  {
   "cell_type": "markdown",
   "source": [
    "# 条件控制\n",
    "Python中没有switchcase，3.10之后有match case"
   ],
   "metadata": {
    "collapsed": false
   }
  },
  {
   "cell_type": "code",
   "execution_count": 1,
   "metadata": {
    "collapsed": true,
    "ExecuteTime": {
     "end_time": "2024-03-22T14:03:27.007636100Z",
     "start_time": "2024-03-22T14:03:26.997647100Z"
    }
   },
   "outputs": [
    {
     "name": "stdout",
     "output_type": "stream",
     "text": [
      "y: 27\n"
     ]
    }
   ],
   "source": [
    "import random\n",
    "\n",
    "x = random.choice(range(100))\n",
    "y = random.choice(range(200))\n",
    "\n",
    "if x > y:\n",
    "    print(\"x:\", x)\n",
    "elif x == y:\n",
    "    print('x+y:', x + y)\n",
    "else:\n",
    "    print(\"y:\", y)"
   ]
  },
  {
   "cell_type": "code",
   "execution_count": 4,
   "outputs": [
    {
     "name": "stdout",
     "output_type": "stream",
     "text": [
      "输入不合法，请输入有效年龄\n",
      "输入不合法，请输入有效年龄\n",
      "输入不合法，请输入有效年龄\n",
      "输入不合法，请输入有效年龄\n",
      "输入不合法，请输入有效年龄\n",
      "输入不合法，请输入有效年龄\n",
      "输入不合法，请输入有效年龄\n",
      "相当于人类27岁\n"
     ]
    },
    {
     "data": {
      "text/plain": "''"
     },
     "execution_count": 4,
     "metadata": {},
     "output_type": "execute_result"
    }
   ],
   "source": [
    "while True:\n",
    "    try:\n",
    "        age = int(input(\"请输入您家狗的年龄\"))\n",
    "        if age <= 0:\n",
    "            print(\"请输入正数\")\n",
    "        elif age == 1:\n",
    "            print(\"相当于人类14岁\")\n",
    "            break\n",
    "        else:\n",
    "            human = 22 + (age - 2) * 5\n",
    "            print(\"相当于人类%d岁\" % human)\n",
    "            break\n",
    "    except ValueError:\n",
    "        print(\"输入不合法，请输入有效年龄\")\n",
    "input(\"点击enter键退出\")"
   ],
   "metadata": {
    "collapsed": false,
    "ExecuteTime": {
     "end_time": "2024-03-22T14:12:22.709473200Z",
     "start_time": "2024-03-22T14:11:25.786491Z"
    }
   }
  },
  {
   "cell_type": "markdown",
   "source": [
    "eval()去掉外侧“”，即将字符串转换为Python语句"
   ],
   "metadata": {
    "collapsed": false
   }
  },
  {
   "cell_type": "code",
   "execution_count": 6,
   "outputs": [
    {
     "name": "stdout",
     "output_type": "stream",
     "text": [
      "----欢迎使用BMI计算程序----\n",
      "姓名: Feng 身体状态:正常\n",
      "BMI指数:23.798859326943173\n",
      "感谢 Feng 先生在 Fri Mar 22 22:21:26 2024 使用本程序,祝您身体健康!\n"
     ]
    }
   ],
   "source": [
    "print('----欢迎使用BMI计算程序----')\n",
    "name=input('请键入您的姓名:')\n",
    "height=eval(input('请键入您的身高(m):'))\n",
    "weight=eval(input('请键入您的体重(kg):'))\n",
    "gender=input('请键入你的性别(F/M)')\n",
    "BMI=float(float(weight)/(float(height)**2))\n",
    "#公式\n",
    "if BMI<=18.4:\n",
    "    print('姓名:',name,'身体状态:偏瘦')\n",
    "elif BMI<=23.9:\n",
    "    print('姓名:',name,'身体状态:正常')\n",
    "elif BMI<=27.9:\n",
    "    print('姓名:',name,'身体状态:超重')\n",
    "elif BMI>=28:\n",
    "    print('姓名:',name,'身体状态:肥胖')\n",
    "print(\"BMI指数:{}\".format(BMI))\n",
    "\n",
    "import time\n",
    "#time模块\n",
    "nowtime=(time.asctime(time.localtime(time.time())))\n",
    "if gender=='F':\n",
    "    print('感谢',name,'女士在',nowtime,'使用本程序,祝您身体健康!')\n",
    "if gender=='M':\n",
    "    print('感谢',name,'先生在',nowtime,'使用本程序,祝您身体健康!')"
   ],
   "metadata": {
    "collapsed": false,
    "ExecuteTime": {
     "end_time": "2024-03-22T14:21:26.159982500Z",
     "start_time": "2024-03-22T14:21:00.867987800Z"
    }
   }
  },
  {
   "cell_type": "code",
   "execution_count": null,
   "outputs": [],
   "source": [],
   "metadata": {
    "collapsed": false
   }
  }
 ],
 "metadata": {
  "kernelspec": {
   "display_name": "Python 3",
   "language": "python",
   "name": "python3"
  },
  "language_info": {
   "codemirror_mode": {
    "name": "ipython",
    "version": 2
   },
   "file_extension": ".py",
   "mimetype": "text/x-python",
   "name": "python",
   "nbconvert_exporter": "python",
   "pygments_lexer": "ipython2",
   "version": "2.7.6"
  }
 },
 "nbformat": 4,
 "nbformat_minor": 0
}
