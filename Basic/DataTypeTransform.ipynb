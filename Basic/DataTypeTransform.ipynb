{
 "cells": [
  {
   "cell_type": "markdown",
   "source": [
    "# Python3 数据类型转换\n",
    "有时候，我们需要对数据内置的类型进行转换，数据类型的转换，一般情况下你只需要将数据类型作为函数名即可。\n",
    "主要分为两种，隐式（自动完成）以及显式（使用类型函数进行转换）"
   ],
   "metadata": {
    "collapsed": false
   }
  },
  {
   "cell_type": "markdown",
   "source": [
    "# 隐式类型转换\n",
    "在隐式类型转换中，Python 会自动将一种数据类型转换为另一种数据类型，不需要我们去干预。\n",
    "以下实例中，我们对两种不同类型的数据进行运算，较低数据类型（整数）就会转换为较高数据类型（浮点数）以避免数据丢失。"
   ],
   "metadata": {
    "collapsed": false
   }
  },
  {
   "cell_type": "code",
   "execution_count": 1,
   "metadata": {
    "collapsed": true,
    "ExecuteTime": {
     "end_time": "2024-03-18T10:06:32.127924700Z",
     "start_time": "2024-03-18T10:06:32.115964100Z"
    }
   },
   "outputs": [
    {
     "name": "stdout",
     "output_type": "stream",
     "text": [
      "num_int的数据类型为： <class 'int'>\n",
      "num_flo的数据类型为： <class 'float'>\n",
      "num_new的数据类型为： <class 'float'> num_new =  124.23\n"
     ]
    }
   ],
   "source": [
    "num_int = 123\n",
    "num_flo = 1.23\n",
    "\n",
    "num_new = num_int + num_flo\n",
    "print(\"num_int的数据类型为：\", type(num_int))\n",
    "print(\"num_flo的数据类型为：\", type(num_flo))\n",
    "print(\"num_new的数据类型为：\", type(num_new), \"num_new = \", num_new)"
   ]
  },
  {
   "cell_type": "code",
   "execution_count": 2,
   "outputs": [
    {
     "ename": "TypeError",
     "evalue": "unsupported operand type(s) for +: 'int' and 'str'",
     "output_type": "error",
     "traceback": [
      "\u001B[1;31m---------------------------------------------------------------------------\u001B[0m",
      "\u001B[1;31mTypeError\u001B[0m                                 Traceback (most recent call last)",
      "Cell \u001B[1;32mIn[2], line 4\u001B[0m\n\u001B[0;32m      2\u001B[0m num_int \u001B[38;5;241m=\u001B[39m \u001B[38;5;241m123\u001B[39m\n\u001B[0;32m      3\u001B[0m num_str \u001B[38;5;241m=\u001B[39m \u001B[38;5;124m\"\u001B[39m\u001B[38;5;124m456\u001B[39m\u001B[38;5;124m\"\u001B[39m\n\u001B[1;32m----> 4\u001B[0m num_new \u001B[38;5;241m=\u001B[39m \u001B[43mnum_int\u001B[49m\u001B[43m \u001B[49m\u001B[38;5;241;43m+\u001B[39;49m\u001B[43m \u001B[49m\u001B[43mnum_str\u001B[49m\n\u001B[0;32m      6\u001B[0m \u001B[38;5;28mprint\u001B[39m(num_new, \u001B[38;5;28mtype\u001B[39m(num_new))\n",
      "\u001B[1;31mTypeError\u001B[0m: unsupported operand type(s) for +: 'int' and 'str'"
     ]
    }
   ],
   "source": [
    "# int + string\n",
    "num_int = 123\n",
    "num_str = \"456\"\n",
    "num_new = num_int + num_str\n",
    "\n",
    "print(num_new, type(num_new))"
   ],
   "metadata": {
    "collapsed": false,
    "ExecuteTime": {
     "end_time": "2024-03-18T10:07:55.096759600Z",
     "start_time": "2024-03-18T10:07:54.795814200Z"
    }
   }
  },
  {
   "cell_type": "markdown",
   "source": [
    "整型和字符串类型运算结果会报错，输出 TypeError。 Python 在这种情况下无法使用隐式转换。需要显式类型转换"
   ],
   "metadata": {
    "collapsed": false
   }
  },
  {
   "cell_type": "markdown",
   "source": [
    "# 显式类型转换\n",
    "在显式类型转换中，用户将对象的数据类型转换为所需的数据类型。 我们使用 int()、float()、str() 等预定义函数来执行显式类型转换。"
   ],
   "metadata": {
    "collapsed": false
   }
  },
  {
   "cell_type": "code",
   "execution_count": 3,
   "outputs": [
    {
     "name": "stdout",
     "output_type": "stream",
     "text": [
      "1 <class 'int'>\n",
      "2 <class 'int'>\n",
      "3 <class 'int'>\n"
     ]
    }
   ],
   "source": [
    "x = int(1)\n",
    "y = int(2.8)\n",
    "z = int(\"3\")\n",
    "\n",
    "print(x, type(x))\n",
    "print(y, type(y))\n",
    "print(z, type(z))"
   ],
   "metadata": {
    "collapsed": false,
    "ExecuteTime": {
     "end_time": "2024-03-18T10:15:03.263114800Z",
     "start_time": "2024-03-18T10:15:03.262045200Z"
    }
   }
  },
  {
   "cell_type": "code",
   "execution_count": 4,
   "outputs": [
    {
     "name": "stdout",
     "output_type": "stream",
     "text": [
      "1.0 <class 'float'>\n",
      "2.8 <class 'float'>\n",
      "3.0 <class 'float'>\n",
      "4.2 <class 'float'>\n"
     ]
    }
   ],
   "source": [
    "x = float(1)\n",
    "y = float(2.8)\n",
    "z = float('3')\n",
    "w = float('4.2')\n",
    "\n",
    "print(x, type(x))\n",
    "print(y, type(y))\n",
    "print(z, type(z))\n",
    "print(w, type(w))"
   ],
   "metadata": {
    "collapsed": false,
    "ExecuteTime": {
     "end_time": "2024-03-18T10:16:32.549469400Z",
     "start_time": "2024-03-18T10:16:32.533854800Z"
    }
   }
  },
  {
   "cell_type": "code",
   "execution_count": 5,
   "outputs": [
    {
     "name": "stdout",
     "output_type": "stream",
     "text": [
      "s1 <class 'str'>\n",
      "2 <class 'str'>\n",
      "2.2 <class 'str'>\n"
     ]
    }
   ],
   "source": [
    "x = str(\"s1\")\n",
    "y = str(2)\n",
    "z = str(2.2)\n",
    "\n",
    "print(x, type(x))\n",
    "print(y, type(y))\n",
    "print(z, type(z))"
   ],
   "metadata": {
    "collapsed": false,
    "ExecuteTime": {
     "end_time": "2024-03-18T10:22:59.120084800Z",
     "start_time": "2024-03-18T10:22:59.104456300Z"
    }
   }
  },
  {
   "cell_type": "markdown",
   "source": [
    "整型和字符串类型进行运算，就可以用强制类型转换来完成："
   ],
   "metadata": {
    "collapsed": false
   }
  },
  {
   "cell_type": "code",
   "execution_count": 6,
   "outputs": [
    {
     "name": "stdout",
     "output_type": "stream",
     "text": [
      "num_int 数据类型为: <class 'int'>\n",
      "类型转换前，num_str 数据类型为: <class 'str'>\n",
      "类型转换后，num_str 数据类型为: <class 'int'>\n",
      "num_int 与 num_str 相加结果为: 579\n",
      "sum 数据类型为: <class 'int'>\n"
     ]
    }
   ],
   "source": [
    "num_int = 123\n",
    "num_str = \"456\"\n",
    "\n",
    "print(\"num_int 数据类型为:\",type(num_int))\n",
    "print(\"类型转换前，num_str 数据类型为:\",type(num_str))\n",
    "\n",
    "num_str = int(num_str)    # 强制转换为整型\n",
    "print(\"类型转换后，num_str 数据类型为:\",type(num_str))\n",
    "\n",
    "num_sum = num_int + num_str\n",
    "\n",
    "print(\"num_int 与 num_str 相加结果为:\",num_sum)\n",
    "print(\"sum 数据类型为:\",type(num_sum))"
   ],
   "metadata": {
    "collapsed": false,
    "ExecuteTime": {
     "end_time": "2024-03-18T10:24:04.939912100Z",
     "start_time": "2024-03-18T10:24:04.924254Z"
    }
   }
  },
  {
   "cell_type": "markdown",
   "source": [
    "对于一个非数字字符串（如\"Hello\"），它无法被转换为一个整数或浮点数，因为这个字符串并不包含任何可以表示一个数字的信息。\n",
    "对于一个列表或元组，它可以被转换为一个集合（如果它的元素是不可变的），但不能被转换为一个整数，因为一个集合或列表中的元素无法合理地表示为一个单独的数字。"
   ],
   "metadata": {
    "collapsed": false
   }
  }
 ],
 "metadata": {
  "kernelspec": {
   "display_name": "Python 3",
   "language": "python",
   "name": "python3"
  },
  "language_info": {
   "codemirror_mode": {
    "name": "ipython",
    "version": 2
   },
   "file_extension": ".py",
   "mimetype": "text/x-python",
   "name": "python",
   "nbconvert_exporter": "python",
   "pygments_lexer": "ipython2",
   "version": "2.7.6"
  }
 },
 "nbformat": 4,
 "nbformat_minor": 0
}
