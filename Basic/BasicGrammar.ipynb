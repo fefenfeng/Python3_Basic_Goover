{
 "cells": [
  {
   "cell_type": "markdown",
   "source": [
    "# 编码\n",
    "默认情况UTF-8编码，所有字符串为unicode，若指定不同编码\n",
    "-*- coding: cp-1252 -*-\n",
    "上述定义允许在源文件中使用 Windows-1252 字符集中的字符编码"
   ],
   "metadata": {
    "collapsed": false
   }
  },
  {
   "cell_type": "markdown",
   "source": [
    "# 标识符\n",
    "- 第一个字符必须是字母表中字母或下划线 _ 。\n",
    "- 标识符的其他的部分由字母、数字和下划线组成。\n",
    "- 标识符对大小写敏感。\n",
    "在 Python 3 中，可以用中文作为变量名，非 ASCII 标识符也是允许的了。"
   ],
   "metadata": {
    "collapsed": false
   }
  },
  {
   "cell_type": "markdown",
   "source": [
    "# python保留字\n",
    "保留字即关键字，我们不能把它们用作任何标识符名称。Python 的标准库提供了一个 keyword 模块，可以输出当前版本的所有关键字："
   ],
   "metadata": {
    "collapsed": false
   }
  },
  {
   "cell_type": "code",
   "execution_count": 2,
   "outputs": [
    {
     "data": {
      "text/plain": "['False',\n 'None',\n 'True',\n 'and',\n 'as',\n 'assert',\n 'async',\n 'await',\n 'break',\n 'class',\n 'continue',\n 'def',\n 'del',\n 'elif',\n 'else',\n 'except',\n 'finally',\n 'for',\n 'from',\n 'global',\n 'if',\n 'import',\n 'in',\n 'is',\n 'lambda',\n 'nonlocal',\n 'not',\n 'or',\n 'pass',\n 'raise',\n 'return',\n 'try',\n 'while',\n 'with',\n 'yield']"
     },
     "execution_count": 2,
     "metadata": {},
     "output_type": "execute_result"
    }
   ],
   "source": [
    "import keyword\n",
    "keyword.kwlist"
   ],
   "metadata": {
    "collapsed": false,
    "ExecuteTime": {
     "end_time": "2024-03-17T11:19:21.541459700Z",
     "start_time": "2024-03-17T11:19:21.525817500Z"
    }
   }
  },
  {
   "cell_type": "markdown",
   "source": [
    "# 多行语句\n",
    "语句很长，我们可以使用反斜杠 \\ 来实现多行语句，括号中不用"
   ],
   "metadata": {
    "collapsed": false
   }
  },
  {
   "cell_type": "markdown",
   "source": [
    "# 数字（Number）类型\n",
    "- int (整数), 如 1, 只有一种整数类型 int，表示为长整型，没有 python2 中的Long。\n",
    "- bool (布尔), 如 True。\n",
    "- float (浮点数), 如 1.23、3E-2\n",
    "- complex (复数), 如 1 + 2j、 1.1 + 2.2j"
   ],
   "metadata": {
    "collapsed": false
   }
  },
  {
   "cell_type": "markdown",
   "source": [
    "# 字符串（String）\n",
    "Python 中单引号 ' 和双引号 \" 使用完全相同。\n",
    "使用三引号(''' 或 \"\"\")可以指定一个多行字符串。\n",
    "转义符 \\，反斜杠可以用来转义，使用 r 可以让反斜杠不发生转义。 如 r\"this is a line with \\n\" 则 \\n 会显示，并不是换行\n",
    "按字面意义级联字符串，如 \"this \" \"is \" \"string\" 会被自动转换为 this is string。\n",
    "字符串可以用 + 运算符连接在一起，用 * 运算符重复。\n",
    "Python 中的字符串有两种索引方式，从左往右以 0 开始，从右往左以 -1 开始。\n",
    "Python 中的字符串不能改变。\n",
    "Python 没有单独的字符类型，一个字符就是长度为 1 的字符串。\n",
    "字符串的截取的语法格式如下：变量[头下标:尾下标:步长]"
   ],
   "metadata": {
    "collapsed": false
   }
  },
  {
   "cell_type": "code",
   "execution_count": 3,
   "outputs": [
    {
     "name": "stdout",
     "output_type": "stream",
     "text": [
      "字符串\n",
      "这是一个句子。\n",
      "这是一个段落，\n",
      "可以由多行组成\n"
     ]
    }
   ],
   "source": [
    "word = '字符串'\n",
    "sentence = \"这是一个句子。\"\n",
    "paragraph = \"\"\"这是一个段落，\n",
    "可以由多行组成\"\"\"\n",
    "print(word)\n",
    "print(sentence)\n",
    "print(paragraph)"
   ],
   "metadata": {
    "collapsed": false,
    "ExecuteTime": {
     "end_time": "2024-03-17T11:29:09.478075200Z",
     "start_time": "2024-03-17T11:29:09.462365700Z"
    }
   }
  },
  {
   "cell_type": "code",
   "execution_count": 4,
   "outputs": [
    {
     "name": "stdout",
     "output_type": "stream",
     "text": [
      "123456789\n",
      "12345678\n",
      "1\n",
      "345\n",
      "3456789\n",
      "24\n",
      "123456789123456789\n",
      "123456789你好\n",
      "hello \n",
      " world\n",
      "hello \\n world\n"
     ]
    }
   ],
   "source": [
    "str = '123456789'\n",
    "print(str)\n",
    "print(str[0:-1])\n",
    "print(str[0])\n",
    "print(str[2:5])\n",
    "print(str[2:])\n",
    "print(str[1:5:2])\n",
    "print(str * 2)\n",
    "print(str + '你好')\n",
    "print('hello \\n world')\n",
    "print(r'hello \\n world')"
   ],
   "metadata": {
    "collapsed": false,
    "ExecuteTime": {
     "end_time": "2024-03-17T11:32:26.712336400Z",
     "start_time": "2024-03-17T11:32:26.665452700Z"
    }
   }
  },
  {
   "cell_type": "code",
   "execution_count": 9,
   "outputs": [
    {
     "data": {
      "text/plain": "'123456'"
     },
     "execution_count": 9,
     "metadata": {},
     "output_type": "execute_result"
    }
   ],
   "source": [
    "input(\"输入你需要的数字\")"
   ],
   "metadata": {
    "collapsed": false,
    "ExecuteTime": {
     "end_time": "2024-03-17T11:35:21.464008800Z",
     "start_time": "2024-03-17T11:35:19.197837400Z"
    }
   }
  },
  {
   "cell_type": "code",
   "execution_count": 13,
   "outputs": [
    {
     "name": "stdout",
     "output_type": "stream",
     "text": [
      "runoob"
     ]
    },
    {
     "data": {
      "text/plain": "6"
     },
     "execution_count": 13,
     "metadata": {},
     "output_type": "execute_result"
    }
   ],
   "source": [
    "import sys; x = 'runoob'; sys.stdout.write(x)"
   ],
   "metadata": {
    "collapsed": false,
    "ExecuteTime": {
     "end_time": "2024-03-17T11:37:20.002391900Z",
     "start_time": "2024-03-17T11:37:19.986750300Z"
    }
   }
  },
  {
   "cell_type": "code",
   "execution_count": 14,
   "outputs": [
    {
     "name": "stdout",
     "output_type": "stream",
     "text": [
      " hi "
     ]
    },
    {
     "data": {
      "text/plain": "4"
     },
     "execution_count": 14,
     "metadata": {},
     "output_type": "execute_result"
    }
   ],
   "source": [
    "sys.stdout.write(\" hi \")"
   ],
   "metadata": {
    "collapsed": false,
    "ExecuteTime": {
     "end_time": "2024-03-17T11:37:22.071181400Z",
     "start_time": "2024-03-17T11:37:22.055550200Z"
    }
   }
  },
  {
   "cell_type": "markdown",
   "source": [
    "# print 输出\n",
    "print 默认输出是换行的，如果要实现不换行需要在变量末尾加上 end=\"\"："
   ],
   "metadata": {
    "collapsed": false
   }
  },
  {
   "cell_type": "code",
   "execution_count": 15,
   "outputs": [
    {
     "name": "stdout",
     "output_type": "stream",
     "text": [
      "a\n",
      "b\n",
      "-------------\n",
      "a b "
     ]
    }
   ],
   "source": [
    "print('a')\n",
    "print('b')\n",
    "print('-------------')\n",
    "print('a', end=\" \")\n",
    "print('b',end=\" \" )"
   ],
   "metadata": {
    "collapsed": false,
    "ExecuteTime": {
     "end_time": "2024-03-17T11:40:09.835297Z",
     "start_time": "2024-03-17T11:40:09.819678Z"
    }
   }
  },
  {
   "cell_type": "code",
   "execution_count": 18,
   "outputs": [
    {
     "name": "stdout",
     "output_type": "stream",
     "text": [
      "================Python import mode==========================\n",
      "命令行参数为:\n",
      "D:\\Anaconda3\\lib\\site-packages\\ipykernel_launcher.py\n",
      "-f\n",
      "C:\\Users\\FENG\\AppData\\Roaming\\jupyter\\runtime\\kernel-8b32e2f8-8fcc-4b3d-a148-a5a15b62ca18.json\n",
      "\n",
      " python 路径为 ['D:\\\\JetBrains\\\\PyCharm 2023.1.3\\\\plugins\\\\python\\\\helpers-pro\\\\jupyter_debug', 'D:\\\\JetBrains\\\\PyCharm 2023.1.3\\\\plugins\\\\python\\\\helpers\\\\pydev', 'D:\\\\MyFiles\\\\Study_Record\\\\Coding\\\\Python3_Basic_Goover\\\\Basic', 'D:\\\\MyFiles\\\\Study_Record\\\\Coding\\\\Python3_Basic_Goover', 'D:\\\\Anaconda3\\\\python310.zip', 'D:\\\\Anaconda3\\\\DLLs', 'D:\\\\Anaconda3\\\\lib', 'D:\\\\Anaconda3', '', 'D:\\\\Anaconda3\\\\lib\\\\site-packages', 'D:\\\\Anaconda3\\\\lib\\\\site-packages\\\\win32', 'D:\\\\Anaconda3\\\\lib\\\\site-packages\\\\win32\\\\lib', 'D:\\\\Anaconda3\\\\lib\\\\site-packages\\\\Pythonwin']\n"
     ]
    }
   ],
   "source": [
    "import sys\n",
    "print('================Python import mode==========================')\n",
    "print ('命令行参数为:')\n",
    "for i in sys.argv:\n",
    "    print (i)\n",
    "print ('\\n python 路径为',sys.path)"
   ],
   "metadata": {
    "collapsed": false,
    "ExecuteTime": {
     "end_time": "2024-03-17T11:41:34.933298900Z",
     "start_time": "2024-03-17T11:41:34.900581300Z"
    }
   }
  },
  {
   "cell_type": "markdown",
   "source": [
    "很多程序可以执行一些操作来查看一些基本信息，Python可以使用-h参数查看各参数帮助信息："
   ],
   "metadata": {
    "collapsed": false
   }
  }
 ],
 "metadata": {
  "kernelspec": {
   "display_name": "Python 3",
   "language": "python",
   "name": "python3"
  },
  "language_info": {
   "codemirror_mode": {
    "name": "ipython",
    "version": 2
   },
   "file_extension": ".py",
   "mimetype": "text/x-python",
   "name": "python",
   "nbconvert_exporter": "python",
   "pygments_lexer": "ipython2",
   "version": "2.7.6"
  }
 },
 "nbformat": 4,
 "nbformat_minor": 0
}
