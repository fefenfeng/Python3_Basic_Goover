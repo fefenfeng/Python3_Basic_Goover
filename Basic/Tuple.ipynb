{
 "cells": [
  {
   "cell_type": "markdown",
   "source": [
    "# Tuple (元组）"
   ],
   "metadata": {
    "collapsed": false
   }
  },
  {
   "cell_type": "code",
   "execution_count": 1,
   "metadata": {
    "collapsed": true,
    "ExecuteTime": {
     "end_time": "2024-03-19T10:21:35.777209100Z",
     "start_time": "2024-03-19T10:21:35.761088700Z"
    }
   },
   "outputs": [
    {
     "name": "stdout",
     "output_type": "stream",
     "text": [
      "(1, 2, 3) <class 'tuple'>\n",
      "(4, 5, 6) <class 'tuple'>\n"
     ]
    }
   ],
   "source": [
    "tup1 = (1, 2, 3)\n",
    "tup2 = 4, 5, 6\n",
    "\n",
    "print(tup1, type(tup1))\n",
    "print(tup2, type(tup2))"
   ]
  },
  {
   "cell_type": "markdown",
   "source": [
    "元组中的元素不允许修改，但可以对元组进行连接组合"
   ],
   "metadata": {
    "collapsed": false
   }
  },
  {
   "cell_type": "code",
   "execution_count": 2,
   "outputs": [
    {
     "name": "stdout",
     "output_type": "stream",
     "text": [
      "(1, 2, 3, 4, 5, 6) <class 'tuple'>\n"
     ]
    }
   ],
   "source": [
    "tup3 = tup1 + tup2\n",
    "print(tup3, type(tup3))"
   ],
   "metadata": {
    "collapsed": false,
    "ExecuteTime": {
     "end_time": "2024-03-19T10:22:58.423400100Z",
     "start_time": "2024-03-19T10:22:58.404721200Z"
    }
   }
  },
  {
   "cell_type": "markdown",
   "source": [
    "元组中元素不允许被删除，只能使用del语句删除整个元组\n",
    "其他用法因为是序列，大差不差\n",
    "元组不可变指的是元组所指向的内存中的内容不可变"
   ],
   "metadata": {
    "collapsed": false
   }
  }
 ],
 "metadata": {
  "kernelspec": {
   "display_name": "Python 3",
   "language": "python",
   "name": "python3"
  },
  "language_info": {
   "codemirror_mode": {
    "name": "ipython",
    "version": 2
   },
   "file_extension": ".py",
   "mimetype": "text/x-python",
   "name": "python",
   "nbconvert_exporter": "python",
   "pygments_lexer": "ipython2",
   "version": "2.7.6"
  }
 },
 "nbformat": 4,
 "nbformat_minor": 0
}
