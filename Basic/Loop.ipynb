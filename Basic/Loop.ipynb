{
 "cells": [
  {
   "cell_type": "markdown",
   "source": [
    "# Loop 循环语句\n",
    "for & while\n",
    "Python中没有do...while循环"
   ],
   "metadata": {
    "collapsed": false
   }
  },
  {
   "cell_type": "code",
   "execution_count": 1,
   "metadata": {
    "collapsed": true,
    "ExecuteTime": {
     "end_time": "2024-03-22T14:35:17.549853Z",
     "start_time": "2024-03-22T14:35:17.529652200Z"
    }
   },
   "outputs": [
    {
     "name": "stdout",
     "output_type": "stream",
     "text": [
      "1到100之和为: 5050\n"
     ]
    }
   ],
   "source": [
    "# use while loop to calculate from 1 plus to 100\n",
    "sum = 0\n",
    "counter = 1\n",
    "while counter <= 100:\n",
    "    sum = sum + counter\n",
    "    counter += 1\n",
    "\n",
    "print(\"1到100之和为: %d\" % sum)"
   ]
  },
  {
   "cell_type": "code",
   "execution_count": 4,
   "outputs": [
    {
     "name": "stdout",
     "output_type": "stream",
     "text": [
      "0  小于5\n",
      "1  小于5\n",
      "2  小于5\n",
      "3  小于5\n",
      "4  小于5\n",
      "5  大于等于5\n"
     ]
    }
   ],
   "source": [
    "count = 0\n",
    "while count < 5:\n",
    "    print(count, \" 小于5\")\n",
    "    count += 1\n",
    "else:\n",
    "    print(count, \" 大于等于5\")"
   ],
   "metadata": {
    "collapsed": false,
    "ExecuteTime": {
     "end_time": "2024-03-22T14:42:08.078975500Z",
     "start_time": "2024-03-22T14:42:07.960655800Z"
    }
   }
  },
  {
   "cell_type": "code",
   "execution_count": 9,
   "outputs": [
    {
     "name": "stdout",
     "output_type": "stream",
     "text": [
      "F\n",
      "e\n",
      "n\n",
      "g\n"
     ]
    }
   ],
   "source": [
    "# 列表中每个元素，字符串中每个元素\n",
    "word1 = 'Feng'\n",
    "for i in word1:\n",
    "    print(i)"
   ],
   "metadata": {
    "collapsed": false,
    "ExecuteTime": {
     "end_time": "2024-03-22T14:45:30.457960500Z",
     "start_time": "2024-03-22T14:45:30.441496300Z"
    }
   }
  },
  {
   "cell_type": "code",
   "execution_count": 10,
   "outputs": [
    {
     "name": "stdout",
     "output_type": "stream",
     "text": [
      "1\n",
      "2\n",
      "3\n",
      "4\n",
      "5\n"
     ]
    }
   ],
   "source": [
    "for i in range(1, 6):\n",
    "    print(i)"
   ],
   "metadata": {
    "collapsed": false,
    "ExecuteTime": {
     "end_time": "2024-03-22T14:46:10.449869700Z",
     "start_time": "2024-03-22T14:46:10.371480900Z"
    }
   }
  },
  {
   "cell_type": "markdown",
   "source": [
    "for循环也是有else语句的，代表循环执行完毕执行else子句中的代码，如果循环中遇到break，则中断循环，不执行else子句"
   ],
   "metadata": {
    "collapsed": false
   }
  },
  {
   "cell_type": "code",
   "execution_count": 11,
   "outputs": [
    {
     "name": "stdout",
     "output_type": "stream",
     "text": [
      "Ali\n",
      "BD\n",
      "ok\n",
      "完成循环！\n"
     ]
    }
   ],
   "source": [
    "sites = ['Ali', 'BD', 'JD', 'Tencent']\n",
    "for site in sites:\n",
    "    if site == \"JD\":\n",
    "        print(\"ok\")\n",
    "        break\n",
    "    print(site)\n",
    "else:\n",
    "    print(\"没有循环数据\")\n",
    "print(\"完成循环！\")"
   ],
   "metadata": {
    "collapsed": false,
    "ExecuteTime": {
     "end_time": "2024-03-22T14:50:45.473605600Z",
     "start_time": "2024-03-22T14:50:45.426415100Z"
    }
   }
  },
  {
   "cell_type": "markdown",
   "source": [
    "range()"
   ],
   "metadata": {
    "collapsed": false
   }
  },
  {
   "cell_type": "code",
   "execution_count": 12,
   "outputs": [
    {
     "name": "stdout",
     "output_type": "stream",
     "text": [
      "0\n",
      "3\n",
      "6\n",
      "9\n"
     ]
    }
   ],
   "source": [
    "for i in range(0, 10, 3):\n",
    "    print(i)"
   ],
   "metadata": {
    "collapsed": false,
    "ExecuteTime": {
     "end_time": "2024-03-22T14:51:44.524918400Z",
     "start_time": "2024-03-22T14:51:44.517803400Z"
    }
   }
  },
  {
   "cell_type": "code",
   "execution_count": 14,
   "outputs": [
    {
     "name": "stdout",
     "output_type": "stream",
     "text": [
      "-10\n",
      "-40\n",
      "-70\n"
     ]
    }
   ],
   "source": [
    "for i in range(-10, -100, -30):\n",
    "    print(i)"
   ],
   "metadata": {
    "collapsed": false,
    "ExecuteTime": {
     "end_time": "2024-03-22T14:52:10.893869500Z",
     "start_time": "2024-03-22T14:52:10.886961200Z"
    }
   }
  },
  {
   "cell_type": "markdown",
   "source": [
    "可以结合range()和len函数遍历一个序列的索引"
   ],
   "metadata": {
    "collapsed": false
   }
  },
  {
   "cell_type": "code",
   "execution_count": 15,
   "outputs": [
    {
     "name": "stdout",
     "output_type": "stream",
     "text": [
      "0 Ali\n",
      "1 BD\n",
      "2 JD\n",
      "3 Tencent\n"
     ]
    }
   ],
   "source": [
    "sites = ['Ali', 'BD', 'JD', 'Tencent']\n",
    "for i in range(len(sites)):\n",
    "    print(i, sites[i])\n"
   ],
   "metadata": {
    "collapsed": false,
    "ExecuteTime": {
     "end_time": "2024-03-22T14:53:39.171571600Z",
     "start_time": "2024-03-22T14:53:39.155955700Z"
    }
   }
  },
  {
   "cell_type": "markdown",
   "source": [
    "range()函数返回的是一个可迭代对象，而不是列表\n",
    "list()函数是对象迭代器，可以把range()返回的可迭代对象转为一个列表，返回变量类型为列表"
   ],
   "metadata": {
    "collapsed": false
   }
  },
  {
   "cell_type": "code",
   "execution_count": 16,
   "outputs": [
    {
     "name": "stdout",
     "output_type": "stream",
     "text": [
      "[0, 1, 2, 3, 4]\n"
     ]
    }
   ],
   "source": [
    "# 若想用range生成列表和元组\n",
    "listnum = list(range(5))\n",
    "print(listnum)"
   ],
   "metadata": {
    "collapsed": false,
    "ExecuteTime": {
     "end_time": "2024-03-22T14:57:13.744352300Z",
     "start_time": "2024-03-22T14:57:13.744352300Z"
    }
   }
  },
  {
   "cell_type": "code",
   "execution_count": 17,
   "outputs": [
    {
     "name": "stdout",
     "output_type": "stream",
     "text": [
      "(1, 2, 3, 4, 5)\n"
     ]
    }
   ],
   "source": [
    "tupnum = tuple(range(1, 6))\n",
    "print(tupnum)"
   ],
   "metadata": {
    "collapsed": false,
    "ExecuteTime": {
     "end_time": "2024-03-22T14:57:46.410669400Z",
     "start_time": "2024-03-22T14:57:46.363619400Z"
    }
   }
  },
  {
   "cell_type": "markdown",
   "source": [
    "break和continue语句及循环中的else语句\n",
    "break语句可以跳出for和while的循环体，如果从for或while中终止，对应的循环else块将不执行\n",
    "continue语句跳过当前循环块中的剩余语句，进行下一轮循环"
   ],
   "metadata": {
    "collapsed": false
   }
  },
  {
   "cell_type": "code",
   "execution_count": 18,
   "outputs": [
    {
     "name": "stdout",
     "output_type": "stream",
     "text": [
      "4\n",
      "3\n"
     ]
    }
   ],
   "source": [
    "n = 5\n",
    "while n > 0:\n",
    "    n -=1\n",
    "    if n == 2:\n",
    "        break\n",
    "    print(n)\n"
   ],
   "metadata": {
    "collapsed": false,
    "ExecuteTime": {
     "end_time": "2024-03-22T15:04:39.820253800Z",
     "start_time": "2024-03-22T15:04:39.808239600Z"
    }
   }
  },
  {
   "cell_type": "code",
   "execution_count": 19,
   "outputs": [
    {
     "name": "stdout",
     "output_type": "stream",
     "text": [
      "4\n",
      "3\n",
      "1\n",
      "0\n"
     ]
    }
   ],
   "source": [
    "n = 5\n",
    "while n > 0:\n",
    "    n -= 1\n",
    "    if n == 2:\n",
    "        continue\n",
    "    print(n)"
   ],
   "metadata": {
    "collapsed": false,
    "ExecuteTime": {
     "end_time": "2024-03-22T15:05:32.355688700Z",
     "start_time": "2024-03-22T15:05:32.344166700Z"
    }
   }
  },
  {
   "cell_type": "code",
   "execution_count": 20,
   "outputs": [
    {
     "name": "stdout",
     "output_type": "stream",
     "text": [
      "2  是质数\n",
      "3  是质数\n",
      "4 = 2 * 2\n",
      "5  是质数\n",
      "6 = 2 * 3\n",
      "7  是质数\n",
      "8 = 2 * 4\n",
      "9 = 3 * 3\n"
     ]
    }
   ],
   "source": [
    "# 查询质数的例子\n",
    "for n in range(2, 10):\n",
    "    for x in range(2, n):\n",
    "        if n % x == 0:\n",
    "            print(n, '=', x, '*', n//x)\n",
    "            break\n",
    "    else:\n",
    "        print(n, ' 是质数')"
   ],
   "metadata": {
    "collapsed": false,
    "ExecuteTime": {
     "end_time": "2024-03-22T15:08:45.964918800Z",
     "start_time": "2024-03-22T15:08:45.952912700Z"
    }
   }
  },
  {
   "cell_type": "markdown",
   "source": [
    "pass语句，空语句，一般用作占位语句"
   ],
   "metadata": {
    "collapsed": false
   }
  },
  {
   "cell_type": "code",
   "execution_count": 21,
   "outputs": [
    {
     "ename": "KeyboardInterrupt",
     "evalue": "",
     "output_type": "error",
     "traceback": [
      "\u001B[1;31m---------------------------------------------------------------------------\u001B[0m",
      "\u001B[1;31mKeyboardInterrupt\u001B[0m                         Traceback (most recent call last)",
      "Cell \u001B[1;32mIn[21], line 1\u001B[0m\n\u001B[1;32m----> 1\u001B[0m \u001B[38;5;28;01mwhile\u001B[39;00m \u001B[38;5;28;01mTrue\u001B[39;00m:\n\u001B[0;32m      2\u001B[0m     \u001B[38;5;28;01mpass\u001B[39;00m\n",
      "\u001B[1;31mKeyboardInterrupt\u001B[0m: "
     ]
    }
   ],
   "source": [
    "while True:\n",
    "    pass"
   ],
   "metadata": {
    "collapsed": false,
    "ExecuteTime": {
     "end_time": "2024-03-22T15:10:05.874277500Z",
     "start_time": "2024-03-22T15:09:58.986524100Z"
    }
   }
  },
  {
   "cell_type": "code",
   "execution_count": 22,
   "outputs": [],
   "source": [
    "class EmptyClass:\n",
    "    pass"
   ],
   "metadata": {
    "collapsed": false,
    "ExecuteTime": {
     "end_time": "2024-03-22T15:10:27.501185500Z",
     "start_time": "2024-03-22T15:10:27.485217600Z"
    }
   }
  },
  {
   "cell_type": "code",
   "execution_count": 23,
   "outputs": [
    {
     "name": "stdout",
     "output_type": "stream",
     "text": [
      "0 12\n",
      "1 34\n",
      "2 56\n",
      "3 78\n",
      "4 910\n"
     ]
    }
   ],
   "source": [
    "# 使用内置enumerate函数进行遍历:\n",
    "sequence = [12, 34, 56, 78, 910]\n",
    "for i, j in enumerate(sequence):\n",
    "    print(i, j)"
   ],
   "metadata": {
    "collapsed": false,
    "ExecuteTime": {
     "end_time": "2024-03-22T15:16:58.918053500Z",
     "start_time": "2024-03-22T15:16:58.906342Z"
    }
   }
  },
  {
   "cell_type": "code",
   "execution_count": 24,
   "outputs": [
    {
     "name": "stdout",
     "output_type": "stream",
     "text": [
      "5050\n"
     ]
    }
   ],
   "source": [
    "# for循环1-100所有整数和\n",
    "n = 0\n",
    "sum = 0\n",
    "for n in range(0, 101):\n",
    "    sum += n\n",
    "print(sum)"
   ],
   "metadata": {
    "collapsed": false,
    "ExecuteTime": {
     "end_time": "2024-03-22T15:18:07.209048800Z",
     "start_time": "2024-03-22T15:18:07.155749600Z"
    }
   }
  },
  {
   "cell_type": "code",
   "execution_count": 25,
   "outputs": [
    {
     "name": "stdout",
     "output_type": "stream",
     "text": [
      "1 * 1 = 1 \n",
      "1 * 2 = 2 2 * 2 = 4 \n",
      "1 * 3 = 3 2 * 3 = 6 3 * 3 = 9 \n",
      "1 * 4 = 4 2 * 4 = 8 3 * 4 = 12 4 * 4 = 16 \n",
      "1 * 5 = 5 2 * 5 = 10 3 * 5 = 15 4 * 5 = 20 5 * 5 = 25 \n",
      "1 * 6 = 6 2 * 6 = 12 3 * 6 = 18 4 * 6 = 24 5 * 6 = 30 6 * 6 = 36 \n",
      "1 * 7 = 7 2 * 7 = 14 3 * 7 = 21 4 * 7 = 28 5 * 7 = 35 6 * 7 = 42 7 * 7 = 49 \n",
      "1 * 8 = 8 2 * 8 = 16 3 * 8 = 24 4 * 8 = 32 5 * 8 = 40 6 * 8 = 48 7 * 8 = 56 8 * 8 = 64 \n",
      "1 * 9 = 9 2 * 9 = 18 3 * 9 = 27 4 * 9 = 36 5 * 9 = 45 6 * 9 = 54 7 * 9 = 63 8 * 9 = 72 9 * 9 = 81 \n"
     ]
    }
   ],
   "source": [
    "# 循环嵌套实现99乘法表\n",
    "i = 1\n",
    "while i <= 9:\n",
    "    j = 1\n",
    "    while j <= i:\n",
    "        mut = j * i\n",
    "        print(\"%d * %d = %d\"%(j, i, mut), end=' ')\n",
    "        j += 1\n",
    "    print('')\n",
    "    i += 1"
   ],
   "metadata": {
    "collapsed": false,
    "ExecuteTime": {
     "end_time": "2024-03-22T15:20:19.115307400Z",
     "start_time": "2024-03-22T15:20:19.098427200Z"
    }
   }
  },
  {
   "cell_type": "code",
   "execution_count": 26,
   "outputs": [
    {
     "name": "stdout",
     "output_type": "stream",
     "text": [
      "1\n",
      "1\n",
      "2\n",
      "3\n",
      "5\n",
      "8\n"
     ]
    }
   ],
   "source": [
    "# 斐波那契数列\n",
    "a, b = 0, 1\n",
    "while b < 10:\n",
    "    print(b)\n",
    "    a, b = b, a+b"
   ],
   "metadata": {
    "collapsed": false,
    "ExecuteTime": {
     "end_time": "2024-03-23T01:06:56.270693700Z",
     "start_time": "2024-03-23T01:06:56.266580100Z"
    }
   }
  },
  {
   "cell_type": "code",
   "execution_count": 27,
   "outputs": [
    {
     "name": "stdout",
     "output_type": "stream",
     "text": [
      "1 1 2 3 5 8 13 21 34 55 89 144 233 377 610 987 "
     ]
    }
   ],
   "source": [
    "a, b = 0, 1\n",
    "while b < 1000:\n",
    "    print(b, end=' ')\n",
    "    a, b = b, a + b"
   ],
   "metadata": {
    "collapsed": false,
    "ExecuteTime": {
     "end_time": "2024-03-23T01:07:57.431734400Z",
     "start_time": "2024-03-23T01:07:57.431734400Z"
    }
   }
  }
 ],
 "metadata": {
  "kernelspec": {
   "display_name": "Python 3",
   "language": "python",
   "name": "python3"
  },
  "language_info": {
   "codemirror_mode": {
    "name": "ipython",
    "version": 2
   },
   "file_extension": ".py",
   "mimetype": "text/x-python",
   "name": "python",
   "nbconvert_exporter": "python",
   "pygments_lexer": "ipython2",
   "version": "2.7.6"
  }
 },
 "nbformat": 4,
 "nbformat_minor": 0
}
